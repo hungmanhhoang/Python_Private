{
  "cells": [
    {
      "cell_type": "markdown",
      "metadata": {
        "id": "7N4tjV0RttOy"
      },
      "source": [
        "Hi các bạn, cũng đã đến những buổi cuối cùng của lớp Python Private, chúng ta đã đi qua nhiều kiến thức cơ bản cũng như các thư viện hữu dụng cho hướng phát triển của lớp sau này, bài tập này là bài tập tổng hợp lại kiến thức cho các bạn trước khi bước vào bài tập lớn cuối khóa nhé.\n",
        "\n",
        "Yêu cầu chung cho bài tập như sau:\n",
        "- Tạo folder finalHomework trên drive của mình, tạo bản sao từ google colab này và lưu lại trong đó\n",
        "- Ở các vị trị có dấu ... các bạn sẽ thay thế nó bằng câu lệnh phù hợp nhé\n",
        "- Có thể thêm cell code để tách rời các đoạn code cho rõ ràng hơn\n",
        "- Link dataset:\n",
        "  + Fifa World Cup 2022 Qatar: [data](https://drive.google.com/drive/folders/1toqv_FTlsi6-NfswfzKnK9GBYAE8i57L?usp=sharing)\n",
        "\n",
        "Anh mong các bạn sẽ làm bài tập đầy đủ để có thể review lại kiến thức của bản thân nhé !!!\n",
        "\n",
        "Yêu các bạn <3\n",
        "\n"
      ]
    },
    {
      "cell_type": "markdown",
      "metadata": {
        "id": "2nJGCVde7QYz"
      },
      "source": [
        "# Set up"
      ]
    },
    {
      "cell_type": "markdown",
      "metadata": {
        "id": "OaIqmAl26tfn"
      },
      "source": [
        "## Import các thư viện cần thiết"
      ]
    },
    {
      "cell_type": "code",
      "execution_count": 31,
      "metadata": {
        "id": "SQs3MtBEtoBM"
      },
      "outputs": [],
      "source": [
        "import pandas as pd\n",
        "import numpy as np\n",
        "import matplotlib.pyplot as plt\n",
        "import seaborn as sns\n",
        "import plotly.graph_objects as go\n",
        "import plotly.express as px\n",
        "import plotly.io as pio\n",
        "import os\n",
        "sns.set_style(\"whitegrid\")\n",
        "sns.set_context(\"paper\")\n",
        "import warnings\n",
        "warnings.filterwarnings('ignore')"
      ]
    },
    {
      "cell_type": "markdown",
      "metadata": {
        "id": "fJk_2UsOwjlY"
      },
      "source": [
        "## Kết nối với google drive"
      ]
    },
    {
      "cell_type": "code",
      "execution_count": null,
      "metadata": {
        "id": "Y4Zf9gEAwo4f"
      },
      "outputs": [],
      "source": [
        "# from google.colab import drive"
      ]
    },
    {
      "cell_type": "markdown",
      "metadata": {
        "id": "CrHj0eFjyV66"
      },
      "source": [
        "## Di chuyển đến thư mục chứa google colab"
      ]
    },
    {
      "cell_type": "code",
      "execution_count": null,
      "metadata": {
        "colab": {
          "base_uri": "https://localhost:8080/"
        },
        "id": "m3GoRYnSyFnY",
        "outputId": "ea63e89e-dc6b-40be-9cca-99baec758097"
      },
      "outputs": [
        {
          "name": "stdout",
          "output_type": "stream",
          "text": [
            "Mounted at /content/drive\n"
          ]
        }
      ],
      "source": [
        "# drive.mount('/content/drive')"
      ]
    },
    {
      "cell_type": "markdown",
      "metadata": {
        "id": "sg7zIV2gyowz"
      },
      "source": [
        "## Upload file"
      ]
    },
    {
      "cell_type": "code",
      "execution_count": null,
      "metadata": {
        "id": "UxfxS5cTzEZ4"
      },
      "outputs": [],
      "source": [
        "# from ... import ...\n",
        "# uploaded = ..."
      ]
    },
    {
      "cell_type": "markdown",
      "metadata": {
        "id": "WJB8Vuyt8I8X"
      },
      "source": [
        "## List các file trong thư mục"
      ]
    },
    {
      "cell_type": "code",
      "execution_count": null,
      "metadata": {
        "colab": {
          "base_uri": "https://localhost:8080/"
        },
        "id": "MJ-gBUGt8ImB",
        "outputId": "9286735f-d08b-4b87-dac8-bce70a95c8ec"
      },
      "outputs": [
        {
          "name": "stdout",
          "output_type": "stream",
          "text": [
            "matches_world_cup_2022_catar.csv\n",
            "Hung's finalHomework.ipynb\n"
          ]
        }
      ],
      "source": [
        "# directory_path = '/content/drive/MyDrive/Colab Notebooks/finalHomework'\n",
        "# directory_files = os.listdir(directory_path)\n",
        "\n",
        "# for file in directory_files:\n",
        "#   print(file)"
      ]
    },
    {
      "cell_type": "markdown",
      "metadata": {
        "id": "KAfNZmApG7q8"
      },
      "source": [
        "# Numpy"
      ]
    },
    {
      "cell_type": "code",
      "execution_count": null,
      "metadata": {
        "id": "Qx6IzqyyG_5c"
      },
      "outputs": [],
      "source": [
        "# Init\n",
        "import random\n",
        "import numpy as np\n",
        "\n",
        "prices = list(range(1, 1000000))\n",
        "random.shuffle(prices)"
      ]
    },
    {
      "cell_type": "code",
      "execution_count": null,
      "metadata": {
        "id": "KvygxO4iJxo4"
      },
      "outputs": [],
      "source": [
        "# hàm ban đầu\n",
        "def find_max_down_fall(prices):\n",
        "  min_right_to_left = [0 for i in range((len(prices)))]\n",
        "\n",
        "  min_so_far = float('inf')\n",
        "  for i in range(len(prices) -1, -1, -1):\n",
        "    min_so_far = min(prices[i], min_so_far)\n",
        "    min_right_to_left[i] = min_so_far\n",
        "\n",
        "  res = 0\n",
        "  for i, buy in enumerate(prices):\n",
        "    worst_sell = min_right_to_left[i]\n",
        "    down_fall = (buy - worst_sell) / buy\n",
        "    res = max(res, down_fall)\n",
        "\n",
        "  return res"
      ]
    },
    {
      "cell_type": "code",
      "execution_count": null,
      "metadata": {
        "colab": {
          "base_uri": "https://localhost:8080/"
        },
        "id": "6SBdr8n2JyQw",
        "outputId": "92b663af-ae79-4186-8239-182c13766973"
      },
      "outputs": [
        {
          "name": "stdout",
          "output_type": "stream",
          "text": [
            "The slowest run took 4.36 times longer than the fastest. This could mean that an intermediate result is being cached.\n",
            "1.65 s ± 1.14 s per loop (mean ± std. dev. of 7 runs, 1 loop each)\n"
          ]
        }
      ],
      "source": [
        "# Tính thời gian thực hiện của hàm find_max_down_fall\n",
        "%timeit find_max_down_fall(prices)"
      ]
    },
    {
      "cell_type": "code",
      "execution_count": null,
      "metadata": {
        "id": "YR77Xtp5J15S"
      },
      "outputs": [],
      "source": [
        "# hàm sau khi được viết lại bằng numpy\n",
        "def find_max_down_fall_np(prices_np):\n",
        "  prices = np.array(prices_np)\n",
        "\n",
        "  # Tính giá trị tích tụ nhỏ nhất từ phải sang trái\n",
        "  min_right_to_left = np.minimum.accumulate(prices[::-1])[::-1]\n",
        "\n",
        "  # Tính giá trị lỗ lớn nhất\n",
        "  res = np.max((prices - min_right_to_left) / prices)\n",
        "\n",
        "  return res"
      ]
    },
    {
      "cell_type": "code",
      "execution_count": null,
      "metadata": {
        "colab": {
          "base_uri": "https://localhost:8080/"
        },
        "id": "GCXJHtzbJ3nC",
        "outputId": "1146f796-45e0-44cc-e3fe-8ba6e39385b5"
      },
      "outputs": [
        {
          "name": "stdout",
          "output_type": "stream",
          "text": [
            "22.8 ms ± 855 µs per loop (mean ± std. dev. of 7 runs, 10 loops each)\n"
          ]
        }
      ],
      "source": [
        "# Tính thời gian thực hiện của hàm find_max_down_fall sau khi được viết lại bằng numpy với thời gian kì vọng nhanh hơn khoảng 100 lần\n",
        "# start your code here\n",
        "prices_np = np.array([prices])\n",
        "# end your code\n",
        "\n",
        "%timeit find_max_down_fall_np(prices_np)"
      ]
    },
    {
      "cell_type": "code",
      "execution_count": null,
      "metadata": {
        "colab": {
          "base_uri": "https://localhost:8080/"
        },
        "id": "H3q6aJrGJ69R",
        "outputId": "485fceca-80a1-4555-9233-96c4649dc564"
      },
      "outputs": [
        {
          "data": {
            "text/plain": [
              "False"
            ]
          },
          "execution_count": 11,
          "metadata": {},
          "output_type": "execute_result"
        }
      ],
      "source": [
        "# so sánh kết quả\n",
        "find_max_down_fall(prices) == find_max_down_fall_np(prices_np)"
      ]
    },
    {
      "cell_type": "markdown",
      "metadata": {
        "id": "P1TFqBTO7Ghy"
      },
      "source": [
        "# Pandas + Matplotlib"
      ]
    },
    {
      "cell_type": "markdown",
      "metadata": {
        "id": "LExKcCNc798S"
      },
      "source": [
        "## Gọi file csv"
      ]
    },
    {
      "cell_type": "code",
      "execution_count": 29,
      "metadata": {
        "colab": {
          "base_uri": "https://localhost:8080/",
          "height": 516
        },
        "id": "pkoVUorJWylt",
        "outputId": "38f31860-6e73-47dd-a9ea-95a68c41f070"
      },
      "outputs": [
        {
          "data": {
            "text/html": [
              "<div>\n",
              "<style scoped>\n",
              "    .dataframe tbody tr th:only-of-type {\n",
              "        vertical-align: middle;\n",
              "    }\n",
              "\n",
              "    .dataframe tbody tr th {\n",
              "        vertical-align: top;\n",
              "    }\n",
              "\n",
              "    .dataframe thead th {\n",
              "        text-align: right;\n",
              "    }\n",
              "</style>\n",
              "<table border=\"1\" class=\"dataframe\">\n",
              "  <thead>\n",
              "    <tr style=\"text-align: right;\">\n",
              "      <th></th>\n",
              "      <th>match_id</th>\n",
              "      <th>stage</th>\n",
              "      <th>date</th>\n",
              "      <th>pens</th>\n",
              "      <th>pens_home_score</th>\n",
              "      <th>pens_away_score</th>\n",
              "      <th>team_name_home</th>\n",
              "      <th>team_name_away</th>\n",
              "      <th>team_home_score</th>\n",
              "      <th>team_away_score</th>\n",
              "      <th>...</th>\n",
              "      <th>prediction_team_away_win</th>\n",
              "      <th>prediction_quantity</th>\n",
              "      <th>location</th>\n",
              "      <th>events_list</th>\n",
              "      <th>lineup_home</th>\n",
              "      <th>lineup_away</th>\n",
              "      <th>player_names_home</th>\n",
              "      <th>player_numbers_home</th>\n",
              "      <th>player_names_away</th>\n",
              "      <th>player_numbers_away</th>\n",
              "    </tr>\n",
              "  </thead>\n",
              "  <tbody>\n",
              "    <tr>\n",
              "      <th>0</th>\n",
              "      <td>1</td>\n",
              "      <td>Final</td>\n",
              "      <td>18/12/2022</td>\n",
              "      <td>True</td>\n",
              "      <td>4</td>\n",
              "      <td>2</td>\n",
              "      <td>Argentina</td>\n",
              "      <td>France</td>\n",
              "      <td>3</td>\n",
              "      <td>3</td>\n",
              "      <td>...</td>\n",
              "      <td>0.33</td>\n",
              "      <td>1002364</td>\n",
              "      <td>Lusail Iconic Stadium</td>\n",
              "      <td>[{'event_team': 'home', 'event_time': \" 23' \",...</td>\n",
              "      <td>[{'player_name': ' Di María ', 'player_number'...</td>\n",
              "      <td>[{'player_name': ' Giroud ', 'player_number': ...</td>\n",
              "      <td>['Di María', 'Álvarez', 'Messi', 'Mac Allister...</td>\n",
              "      <td>['11', '9', '10', '20', '24', '7', '3', '19', ...</td>\n",
              "      <td>['Giroud', 'Mbappé', 'Griezmann', 'Dembélé', '...</td>\n",
              "      <td>['9', '10', '7', '11', '14', '8', '22', '18', ...</td>\n",
              "    </tr>\n",
              "    <tr>\n",
              "      <th>1</th>\n",
              "      <td>2</td>\n",
              "      <td>Match for third place</td>\n",
              "      <td>17/12/2022</td>\n",
              "      <td>False</td>\n",
              "      <td>False</td>\n",
              "      <td>False</td>\n",
              "      <td>Croatia</td>\n",
              "      <td>Morocco</td>\n",
              "      <td>2</td>\n",
              "      <td>1</td>\n",
              "      <td>...</td>\n",
              "      <td>0.54</td>\n",
              "      <td>367156</td>\n",
              "      <td>Khalifa International Stadium</td>\n",
              "      <td>[{'event_team': 'home', 'event_time': \" 7' \", ...</td>\n",
              "      <td>[{'player_name': ' Livaja ', 'player_number': ...</td>\n",
              "      <td>[{'player_name': ' Boufal ', 'player_number': ...</td>\n",
              "      <td>['Livaja', 'Oršić', 'Kramarić', 'Majer', 'Kova...</td>\n",
              "      <td>['14', '18', '9', '7', '8', '10', '4', '20', '...</td>\n",
              "      <td>['Boufal', 'En-Nesyri', 'Ziyech', 'Sabiri', 'A...</td>\n",
              "      <td>['17', '19', '7', '11', '4', '23', '25', '20',...</td>\n",
              "    </tr>\n",
              "    <tr>\n",
              "      <th>2</th>\n",
              "      <td>3</td>\n",
              "      <td>Semi-finals</td>\n",
              "      <td>14/12/2022</td>\n",
              "      <td>False</td>\n",
              "      <td>False</td>\n",
              "      <td>False</td>\n",
              "      <td>France</td>\n",
              "      <td>Morocco</td>\n",
              "      <td>2</td>\n",
              "      <td>0</td>\n",
              "      <td>...</td>\n",
              "      <td>0.39</td>\n",
              "      <td>720768</td>\n",
              "      <td>Al Bayt Stadium</td>\n",
              "      <td>[{'event_team': 'home', 'event_time': \" 5' \", ...</td>\n",
              "      <td>[{'player_name': ' Giroud ', 'player_number': ...</td>\n",
              "      <td>[{'player_name': ' En-Nesyri ', 'player_number...</td>\n",
              "      <td>['Giroud', 'Mbappé', 'Griezmann', 'Dembélé', '...</td>\n",
              "      <td>['9', '10', '7', '11', '13', '8', '22', '24', ...</td>\n",
              "      <td>['En-Nesyri', 'Boufal', 'Amrabat', 'Ounahi', '...</td>\n",
              "      <td>['19', '17', '4', '8', '7', '3', '18', '6', '2...</td>\n",
              "    </tr>\n",
              "    <tr>\n",
              "      <th>3</th>\n",
              "      <td>4</td>\n",
              "      <td>Semi-finals</td>\n",
              "      <td>13/12/2022</td>\n",
              "      <td>False</td>\n",
              "      <td>False</td>\n",
              "      <td>False</td>\n",
              "      <td>Argentina</td>\n",
              "      <td>Croatia</td>\n",
              "      <td>3</td>\n",
              "      <td>0</td>\n",
              "      <td>...</td>\n",
              "      <td>0.25</td>\n",
              "      <td>792326</td>\n",
              "      <td>Lusail Iconic Stadium</td>\n",
              "      <td>[{'event_team': 'away', 'event_time': \" 32' \",...</td>\n",
              "      <td>[{'player_name': ' Álvarez ', 'player_number':...</td>\n",
              "      <td>[{'player_name': ' Perišić ', 'player_number':...</td>\n",
              "      <td>['Álvarez', 'Messi', 'Mac Allister', 'Fernánde...</td>\n",
              "      <td>['9', '10', '20', '24', '5', '7', '3', '19', '...</td>\n",
              "      <td>['Perišić', 'Kramarić', 'Pašalić', 'Kovačić', ...</td>\n",
              "      <td>['4', '9', '15', '8', '11', '10', '19', '20', ...</td>\n",
              "    </tr>\n",
              "    <tr>\n",
              "      <th>4</th>\n",
              "      <td>5</td>\n",
              "      <td>Quarter-finals</td>\n",
              "      <td>10/12/2022</td>\n",
              "      <td>False</td>\n",
              "      <td>False</td>\n",
              "      <td>False</td>\n",
              "      <td>England</td>\n",
              "      <td>France</td>\n",
              "      <td>1</td>\n",
              "      <td>2</td>\n",
              "      <td>...</td>\n",
              "      <td>0.55</td>\n",
              "      <td>672577</td>\n",
              "      <td>Al Bayt Stadium</td>\n",
              "      <td>[{'event_team': 'away', 'event_time': \" 17' \",...</td>\n",
              "      <td>[{'player_name': ' Foden ', 'player_number': '...</td>\n",
              "      <td>[{'player_name': ' Giroud ', 'player_number': ...</td>\n",
              "      <td>['Foden', 'Kane', 'Saka', 'Bellingham', 'Rice'...</td>\n",
              "      <td>['20', '9', '17', '22', '4', '8', '3', '6', '5...</td>\n",
              "      <td>['Giroud', 'Mbappé', 'Griezmann', 'Dembélé', '...</td>\n",
              "      <td>['9', '10', '7', '11', '14', '8', '22', '18', ...</td>\n",
              "    </tr>\n",
              "  </tbody>\n",
              "</table>\n",
              "<p>5 rows × 30 columns</p>\n",
              "</div>"
            ],
            "text/plain": [
              "   match_id                  stage        date   pens pens_home_score  \\\n",
              "0         1                  Final  18/12/2022   True               4   \n",
              "1         2  Match for third place  17/12/2022  False           False   \n",
              "2         3            Semi-finals  14/12/2022  False           False   \n",
              "3         4            Semi-finals  13/12/2022  False           False   \n",
              "4         5         Quarter-finals  10/12/2022  False           False   \n",
              "\n",
              "  pens_away_score team_name_home team_name_away  team_home_score  \\\n",
              "0               2      Argentina         France                3   \n",
              "1           False        Croatia        Morocco                2   \n",
              "2           False         France        Morocco                2   \n",
              "3           False      Argentina        Croatia                3   \n",
              "4           False        England         France                1   \n",
              "\n",
              "   team_away_score  ...  prediction_team_away_win  prediction_quantity  \\\n",
              "0                3  ...                      0.33              1002364   \n",
              "1                1  ...                      0.54               367156   \n",
              "2                0  ...                      0.39               720768   \n",
              "3                0  ...                      0.25               792326   \n",
              "4                2  ...                      0.55               672577   \n",
              "\n",
              "                        location  \\\n",
              "0          Lusail Iconic Stadium   \n",
              "1  Khalifa International Stadium   \n",
              "2                Al Bayt Stadium   \n",
              "3          Lusail Iconic Stadium   \n",
              "4                Al Bayt Stadium   \n",
              "\n",
              "                                         events_list  \\\n",
              "0  [{'event_team': 'home', 'event_time': \" 23' \",...   \n",
              "1  [{'event_team': 'home', 'event_time': \" 7' \", ...   \n",
              "2  [{'event_team': 'home', 'event_time': \" 5' \", ...   \n",
              "3  [{'event_team': 'away', 'event_time': \" 32' \",...   \n",
              "4  [{'event_team': 'away', 'event_time': \" 17' \",...   \n",
              "\n",
              "                                         lineup_home  \\\n",
              "0  [{'player_name': ' Di María ', 'player_number'...   \n",
              "1  [{'player_name': ' Livaja ', 'player_number': ...   \n",
              "2  [{'player_name': ' Giroud ', 'player_number': ...   \n",
              "3  [{'player_name': ' Álvarez ', 'player_number':...   \n",
              "4  [{'player_name': ' Foden ', 'player_number': '...   \n",
              "\n",
              "                                         lineup_away  \\\n",
              "0  [{'player_name': ' Giroud ', 'player_number': ...   \n",
              "1  [{'player_name': ' Boufal ', 'player_number': ...   \n",
              "2  [{'player_name': ' En-Nesyri ', 'player_number...   \n",
              "3  [{'player_name': ' Perišić ', 'player_number':...   \n",
              "4  [{'player_name': ' Giroud ', 'player_number': ...   \n",
              "\n",
              "                                   player_names_home  \\\n",
              "0  ['Di María', 'Álvarez', 'Messi', 'Mac Allister...   \n",
              "1  ['Livaja', 'Oršić', 'Kramarić', 'Majer', 'Kova...   \n",
              "2  ['Giroud', 'Mbappé', 'Griezmann', 'Dembélé', '...   \n",
              "3  ['Álvarez', 'Messi', 'Mac Allister', 'Fernánde...   \n",
              "4  ['Foden', 'Kane', 'Saka', 'Bellingham', 'Rice'...   \n",
              "\n",
              "                                 player_numbers_home  \\\n",
              "0  ['11', '9', '10', '20', '24', '7', '3', '19', ...   \n",
              "1  ['14', '18', '9', '7', '8', '10', '4', '20', '...   \n",
              "2  ['9', '10', '7', '11', '13', '8', '22', '24', ...   \n",
              "3  ['9', '10', '20', '24', '5', '7', '3', '19', '...   \n",
              "4  ['20', '9', '17', '22', '4', '8', '3', '6', '5...   \n",
              "\n",
              "                                   player_names_away  \\\n",
              "0  ['Giroud', 'Mbappé', 'Griezmann', 'Dembélé', '...   \n",
              "1  ['Boufal', 'En-Nesyri', 'Ziyech', 'Sabiri', 'A...   \n",
              "2  ['En-Nesyri', 'Boufal', 'Amrabat', 'Ounahi', '...   \n",
              "3  ['Perišić', 'Kramarić', 'Pašalić', 'Kovačić', ...   \n",
              "4  ['Giroud', 'Mbappé', 'Griezmann', 'Dembélé', '...   \n",
              "\n",
              "                                 player_numbers_away  \n",
              "0  ['9', '10', '7', '11', '14', '8', '22', '18', ...  \n",
              "1  ['17', '19', '7', '11', '4', '23', '25', '20',...  \n",
              "2  ['19', '17', '4', '8', '7', '3', '18', '6', '2...  \n",
              "3  ['4', '9', '15', '8', '11', '10', '19', '20', ...  \n",
              "4  ['9', '10', '7', '11', '14', '8', '22', '18', ...  \n",
              "\n",
              "[5 rows x 30 columns]"
            ]
          },
          "execution_count": 29,
          "metadata": {},
          "output_type": "execute_result"
        }
      ],
      "source": [
        "# df = pd.read_csv(\"/content/drive/MyDrive/Colab Notebooks/finalHomework/matches_world_cup_2022_catar.csv\")\n",
        "df = pd.read_csv(r\"assets\\matches_world_cup_2022_catar.csv\")\n",
        "\n",
        "df.head()"
      ]
    },
    {
      "cell_type": "code",
      "execution_count": 6,
      "metadata": {
        "colab": {
          "base_uri": "https://localhost:8080/"
        },
        "id": "WvlvI3YHXGFd",
        "outputId": "bef03ac5-abda-4d3f-8152-801f880c32ee"
      },
      "outputs": [
        {
          "data": {
            "text/plain": [
              "Index(['match_id', 'stage', 'date', 'pens', 'pens_home_score',\n",
              "       'pens_away_score', 'team_name_home', 'team_name_away',\n",
              "       'team_home_score', 'team_away_score', 'possession_home',\n",
              "       'possession_away', 'total_shots_home', 'total_shots_away',\n",
              "       'shots_on_target_home', 'shots_on_target_away', 'duels_won_home',\n",
              "       'duels_won_away', 'prediction_team_home_win', 'prediction_draw',\n",
              "       'prediction_team_away_win', 'prediction_quantity', 'location',\n",
              "       'events_list', 'lineup_home', 'lineup_away', 'player_names_home',\n",
              "       'player_numbers_home', 'player_names_away', 'player_numbers_away'],\n",
              "      dtype='object')"
            ]
          },
          "execution_count": 6,
          "metadata": {},
          "output_type": "execute_result"
        }
      ],
      "source": [
        "df.columns"
      ]
    },
    {
      "cell_type": "code",
      "execution_count": 7,
      "metadata": {
        "id": "0LJZcOob79fQ"
      },
      "outputs": [],
      "source": [
        "df_matches = df.drop('events_list', axis=1)\n",
        "df_events = df[['match_id', 'team_name_home',\t'team_name_away', 'events_list']]"
      ]
    },
    {
      "cell_type": "markdown",
      "metadata": {
        "id": "3GKYg8NP7AkW"
      },
      "source": [
        "## Hiển thị 5 dòng đầu của dataframe"
      ]
    },
    {
      "cell_type": "code",
      "execution_count": 8,
      "metadata": {
        "colab": {
          "base_uri": "https://localhost:8080/",
          "height": 687
        },
        "id": "8QUFbwHZvzvS",
        "outputId": "cbfd3ba7-754c-445e-b985-9679f9401dda"
      },
      "outputs": [
        {
          "data": {
            "text/html": [
              "<div>\n",
              "<style scoped>\n",
              "    .dataframe tbody tr th:only-of-type {\n",
              "        vertical-align: middle;\n",
              "    }\n",
              "\n",
              "    .dataframe tbody tr th {\n",
              "        vertical-align: top;\n",
              "    }\n",
              "\n",
              "    .dataframe thead th {\n",
              "        text-align: right;\n",
              "    }\n",
              "</style>\n",
              "<table border=\"1\" class=\"dataframe\">\n",
              "  <thead>\n",
              "    <tr style=\"text-align: right;\">\n",
              "      <th></th>\n",
              "      <th>match_id</th>\n",
              "      <th>stage</th>\n",
              "      <th>date</th>\n",
              "      <th>pens</th>\n",
              "      <th>pens_home_score</th>\n",
              "      <th>pens_away_score</th>\n",
              "      <th>team_name_home</th>\n",
              "      <th>team_name_away</th>\n",
              "      <th>team_home_score</th>\n",
              "      <th>team_away_score</th>\n",
              "      <th>...</th>\n",
              "      <th>prediction_draw</th>\n",
              "      <th>prediction_team_away_win</th>\n",
              "      <th>prediction_quantity</th>\n",
              "      <th>location</th>\n",
              "      <th>lineup_home</th>\n",
              "      <th>lineup_away</th>\n",
              "      <th>player_names_home</th>\n",
              "      <th>player_numbers_home</th>\n",
              "      <th>player_names_away</th>\n",
              "      <th>player_numbers_away</th>\n",
              "    </tr>\n",
              "  </thead>\n",
              "  <tbody>\n",
              "    <tr>\n",
              "      <th>0</th>\n",
              "      <td>1</td>\n",
              "      <td>Final</td>\n",
              "      <td>18/12/2022</td>\n",
              "      <td>True</td>\n",
              "      <td>4</td>\n",
              "      <td>2</td>\n",
              "      <td>Argentina</td>\n",
              "      <td>France</td>\n",
              "      <td>3</td>\n",
              "      <td>3</td>\n",
              "      <td>...</td>\n",
              "      <td>0.03</td>\n",
              "      <td>0.33</td>\n",
              "      <td>1002364</td>\n",
              "      <td>Lusail Iconic Stadium</td>\n",
              "      <td>[{'player_name': ' Di María ', 'player_number'...</td>\n",
              "      <td>[{'player_name': ' Giroud ', 'player_number': ...</td>\n",
              "      <td>['Di María', 'Álvarez', 'Messi', 'Mac Allister...</td>\n",
              "      <td>['11', '9', '10', '20', '24', '7', '3', '19', ...</td>\n",
              "      <td>['Giroud', 'Mbappé', 'Griezmann', 'Dembélé', '...</td>\n",
              "      <td>['9', '10', '7', '11', '14', '8', '22', '18', ...</td>\n",
              "    </tr>\n",
              "    <tr>\n",
              "      <th>1</th>\n",
              "      <td>2</td>\n",
              "      <td>Match for third place</td>\n",
              "      <td>17/12/2022</td>\n",
              "      <td>False</td>\n",
              "      <td>False</td>\n",
              "      <td>False</td>\n",
              "      <td>Croatia</td>\n",
              "      <td>Morocco</td>\n",
              "      <td>2</td>\n",
              "      <td>1</td>\n",
              "      <td>...</td>\n",
              "      <td>0.04</td>\n",
              "      <td>0.54</td>\n",
              "      <td>367156</td>\n",
              "      <td>Khalifa International Stadium</td>\n",
              "      <td>[{'player_name': ' Livaja ', 'player_number': ...</td>\n",
              "      <td>[{'player_name': ' Boufal ', 'player_number': ...</td>\n",
              "      <td>['Livaja', 'Oršić', 'Kramarić', 'Majer', 'Kova...</td>\n",
              "      <td>['14', '18', '9', '7', '8', '10', '4', '20', '...</td>\n",
              "      <td>['Boufal', 'En-Nesyri', 'Ziyech', 'Sabiri', 'A...</td>\n",
              "      <td>['17', '19', '7', '11', '4', '23', '25', '20',...</td>\n",
              "    </tr>\n",
              "    <tr>\n",
              "      <th>2</th>\n",
              "      <td>3</td>\n",
              "      <td>Semi-finals</td>\n",
              "      <td>14/12/2022</td>\n",
              "      <td>False</td>\n",
              "      <td>False</td>\n",
              "      <td>False</td>\n",
              "      <td>France</td>\n",
              "      <td>Morocco</td>\n",
              "      <td>2</td>\n",
              "      <td>0</td>\n",
              "      <td>...</td>\n",
              "      <td>0.03</td>\n",
              "      <td>0.39</td>\n",
              "      <td>720768</td>\n",
              "      <td>Al Bayt Stadium</td>\n",
              "      <td>[{'player_name': ' Giroud ', 'player_number': ...</td>\n",
              "      <td>[{'player_name': ' En-Nesyri ', 'player_number...</td>\n",
              "      <td>['Giroud', 'Mbappé', 'Griezmann', 'Dembélé', '...</td>\n",
              "      <td>['9', '10', '7', '11', '13', '8', '22', '24', ...</td>\n",
              "      <td>['En-Nesyri', 'Boufal', 'Amrabat', 'Ounahi', '...</td>\n",
              "      <td>['19', '17', '4', '8', '7', '3', '18', '6', '2...</td>\n",
              "    </tr>\n",
              "    <tr>\n",
              "      <th>3</th>\n",
              "      <td>4</td>\n",
              "      <td>Semi-finals</td>\n",
              "      <td>13/12/2022</td>\n",
              "      <td>False</td>\n",
              "      <td>False</td>\n",
              "      <td>False</td>\n",
              "      <td>Argentina</td>\n",
              "      <td>Croatia</td>\n",
              "      <td>3</td>\n",
              "      <td>0</td>\n",
              "      <td>...</td>\n",
              "      <td>0.04</td>\n",
              "      <td>0.25</td>\n",
              "      <td>792326</td>\n",
              "      <td>Lusail Iconic Stadium</td>\n",
              "      <td>[{'player_name': ' Álvarez ', 'player_number':...</td>\n",
              "      <td>[{'player_name': ' Perišić ', 'player_number':...</td>\n",
              "      <td>['Álvarez', 'Messi', 'Mac Allister', 'Fernánde...</td>\n",
              "      <td>['9', '10', '20', '24', '5', '7', '3', '19', '...</td>\n",
              "      <td>['Perišić', 'Kramarić', 'Pašalić', 'Kovačić', ...</td>\n",
              "      <td>['4', '9', '15', '8', '11', '10', '19', '20', ...</td>\n",
              "    </tr>\n",
              "    <tr>\n",
              "      <th>4</th>\n",
              "      <td>5</td>\n",
              "      <td>Quarter-finals</td>\n",
              "      <td>10/12/2022</td>\n",
              "      <td>False</td>\n",
              "      <td>False</td>\n",
              "      <td>False</td>\n",
              "      <td>England</td>\n",
              "      <td>France</td>\n",
              "      <td>1</td>\n",
              "      <td>2</td>\n",
              "      <td>...</td>\n",
              "      <td>0.05</td>\n",
              "      <td>0.55</td>\n",
              "      <td>672577</td>\n",
              "      <td>Al Bayt Stadium</td>\n",
              "      <td>[{'player_name': ' Foden ', 'player_number': '...</td>\n",
              "      <td>[{'player_name': ' Giroud ', 'player_number': ...</td>\n",
              "      <td>['Foden', 'Kane', 'Saka', 'Bellingham', 'Rice'...</td>\n",
              "      <td>['20', '9', '17', '22', '4', '8', '3', '6', '5...</td>\n",
              "      <td>['Giroud', 'Mbappé', 'Griezmann', 'Dembélé', '...</td>\n",
              "      <td>['9', '10', '7', '11', '14', '8', '22', '18', ...</td>\n",
              "    </tr>\n",
              "  </tbody>\n",
              "</table>\n",
              "<p>5 rows × 29 columns</p>\n",
              "</div>"
            ],
            "text/plain": [
              "   match_id                  stage        date   pens pens_home_score  \\\n",
              "0         1                  Final  18/12/2022   True               4   \n",
              "1         2  Match for third place  17/12/2022  False           False   \n",
              "2         3            Semi-finals  14/12/2022  False           False   \n",
              "3         4            Semi-finals  13/12/2022  False           False   \n",
              "4         5         Quarter-finals  10/12/2022  False           False   \n",
              "\n",
              "  pens_away_score team_name_home team_name_away  team_home_score  \\\n",
              "0               2      Argentina         France                3   \n",
              "1           False        Croatia        Morocco                2   \n",
              "2           False         France        Morocco                2   \n",
              "3           False      Argentina        Croatia                3   \n",
              "4           False        England         France                1   \n",
              "\n",
              "   team_away_score  ...  prediction_draw  prediction_team_away_win  \\\n",
              "0                3  ...             0.03                      0.33   \n",
              "1                1  ...             0.04                      0.54   \n",
              "2                0  ...             0.03                      0.39   \n",
              "3                0  ...             0.04                      0.25   \n",
              "4                2  ...             0.05                      0.55   \n",
              "\n",
              "   prediction_quantity                       location  \\\n",
              "0              1002364          Lusail Iconic Stadium   \n",
              "1               367156  Khalifa International Stadium   \n",
              "2               720768                Al Bayt Stadium   \n",
              "3               792326          Lusail Iconic Stadium   \n",
              "4               672577                Al Bayt Stadium   \n",
              "\n",
              "                                         lineup_home  \\\n",
              "0  [{'player_name': ' Di María ', 'player_number'...   \n",
              "1  [{'player_name': ' Livaja ', 'player_number': ...   \n",
              "2  [{'player_name': ' Giroud ', 'player_number': ...   \n",
              "3  [{'player_name': ' Álvarez ', 'player_number':...   \n",
              "4  [{'player_name': ' Foden ', 'player_number': '...   \n",
              "\n",
              "                                         lineup_away  \\\n",
              "0  [{'player_name': ' Giroud ', 'player_number': ...   \n",
              "1  [{'player_name': ' Boufal ', 'player_number': ...   \n",
              "2  [{'player_name': ' En-Nesyri ', 'player_number...   \n",
              "3  [{'player_name': ' Perišić ', 'player_number':...   \n",
              "4  [{'player_name': ' Giroud ', 'player_number': ...   \n",
              "\n",
              "                                   player_names_home  \\\n",
              "0  ['Di María', 'Álvarez', 'Messi', 'Mac Allister...   \n",
              "1  ['Livaja', 'Oršić', 'Kramarić', 'Majer', 'Kova...   \n",
              "2  ['Giroud', 'Mbappé', 'Griezmann', 'Dembélé', '...   \n",
              "3  ['Álvarez', 'Messi', 'Mac Allister', 'Fernánde...   \n",
              "4  ['Foden', 'Kane', 'Saka', 'Bellingham', 'Rice'...   \n",
              "\n",
              "                                 player_numbers_home  \\\n",
              "0  ['11', '9', '10', '20', '24', '7', '3', '19', ...   \n",
              "1  ['14', '18', '9', '7', '8', '10', '4', '20', '...   \n",
              "2  ['9', '10', '7', '11', '13', '8', '22', '24', ...   \n",
              "3  ['9', '10', '20', '24', '5', '7', '3', '19', '...   \n",
              "4  ['20', '9', '17', '22', '4', '8', '3', '6', '5...   \n",
              "\n",
              "                                   player_names_away  \\\n",
              "0  ['Giroud', 'Mbappé', 'Griezmann', 'Dembélé', '...   \n",
              "1  ['Boufal', 'En-Nesyri', 'Ziyech', 'Sabiri', 'A...   \n",
              "2  ['En-Nesyri', 'Boufal', 'Amrabat', 'Ounahi', '...   \n",
              "3  ['Perišić', 'Kramarić', 'Pašalić', 'Kovačić', ...   \n",
              "4  ['Giroud', 'Mbappé', 'Griezmann', 'Dembélé', '...   \n",
              "\n",
              "                                 player_numbers_away  \n",
              "0  ['9', '10', '7', '11', '14', '8', '22', '18', ...  \n",
              "1  ['17', '19', '7', '11', '4', '23', '25', '20',...  \n",
              "2  ['19', '17', '4', '8', '7', '3', '18', '6', '2...  \n",
              "3  ['4', '9', '15', '8', '11', '10', '19', '20', ...  \n",
              "4  ['9', '10', '7', '11', '14', '8', '22', '18', ...  \n",
              "\n",
              "[5 rows x 29 columns]"
            ]
          },
          "metadata": {},
          "output_type": "display_data"
        },
        {
          "data": {
            "text/html": [
              "<div>\n",
              "<style scoped>\n",
              "    .dataframe tbody tr th:only-of-type {\n",
              "        vertical-align: middle;\n",
              "    }\n",
              "\n",
              "    .dataframe tbody tr th {\n",
              "        vertical-align: top;\n",
              "    }\n",
              "\n",
              "    .dataframe thead th {\n",
              "        text-align: right;\n",
              "    }\n",
              "</style>\n",
              "<table border=\"1\" class=\"dataframe\">\n",
              "  <thead>\n",
              "    <tr style=\"text-align: right;\">\n",
              "      <th></th>\n",
              "      <th>match_id</th>\n",
              "      <th>team_name_home</th>\n",
              "      <th>team_name_away</th>\n",
              "      <th>events_list</th>\n",
              "    </tr>\n",
              "  </thead>\n",
              "  <tbody>\n",
              "    <tr>\n",
              "      <th>0</th>\n",
              "      <td>1</td>\n",
              "      <td>Argentina</td>\n",
              "      <td>France</td>\n",
              "      <td>[{'event_team': 'home', 'event_time': \" 23' \",...</td>\n",
              "    </tr>\n",
              "    <tr>\n",
              "      <th>1</th>\n",
              "      <td>2</td>\n",
              "      <td>Croatia</td>\n",
              "      <td>Morocco</td>\n",
              "      <td>[{'event_team': 'home', 'event_time': \" 7' \", ...</td>\n",
              "    </tr>\n",
              "    <tr>\n",
              "      <th>2</th>\n",
              "      <td>3</td>\n",
              "      <td>France</td>\n",
              "      <td>Morocco</td>\n",
              "      <td>[{'event_team': 'home', 'event_time': \" 5' \", ...</td>\n",
              "    </tr>\n",
              "    <tr>\n",
              "      <th>3</th>\n",
              "      <td>4</td>\n",
              "      <td>Argentina</td>\n",
              "      <td>Croatia</td>\n",
              "      <td>[{'event_team': 'away', 'event_time': \" 32' \",...</td>\n",
              "    </tr>\n",
              "    <tr>\n",
              "      <th>4</th>\n",
              "      <td>5</td>\n",
              "      <td>England</td>\n",
              "      <td>France</td>\n",
              "      <td>[{'event_team': 'away', 'event_time': \" 17' \",...</td>\n",
              "    </tr>\n",
              "  </tbody>\n",
              "</table>\n",
              "</div>"
            ],
            "text/plain": [
              "   match_id team_name_home team_name_away  \\\n",
              "0         1      Argentina         France   \n",
              "1         2        Croatia        Morocco   \n",
              "2         3         France        Morocco   \n",
              "3         4      Argentina        Croatia   \n",
              "4         5        England         France   \n",
              "\n",
              "                                         events_list  \n",
              "0  [{'event_team': 'home', 'event_time': \" 23' \",...  \n",
              "1  [{'event_team': 'home', 'event_time': \" 7' \", ...  \n",
              "2  [{'event_team': 'home', 'event_time': \" 5' \", ...  \n",
              "3  [{'event_team': 'away', 'event_time': \" 32' \",...  \n",
              "4  [{'event_team': 'away', 'event_time': \" 17' \",...  "
            ]
          },
          "metadata": {},
          "output_type": "display_data"
        }
      ],
      "source": [
        "display(df_matches.head())\n",
        "display(df_events.head())"
      ]
    },
    {
      "cell_type": "markdown",
      "metadata": {
        "id": "IXiLmKUVEM1B"
      },
      "source": [
        "## Hiển thị 5 dòng cuối của các dataframe"
      ]
    },
    {
      "cell_type": "code",
      "execution_count": 9,
      "metadata": {
        "colab": {
          "base_uri": "https://localhost:8080/",
          "height": 705
        },
        "id": "GwkoK2dhEL1S",
        "outputId": "4c2c4a58-7e35-4852-c12d-57db5a722c71"
      },
      "outputs": [
        {
          "data": {
            "text/html": [
              "<div>\n",
              "<style scoped>\n",
              "    .dataframe tbody tr th:only-of-type {\n",
              "        vertical-align: middle;\n",
              "    }\n",
              "\n",
              "    .dataframe tbody tr th {\n",
              "        vertical-align: top;\n",
              "    }\n",
              "\n",
              "    .dataframe thead th {\n",
              "        text-align: right;\n",
              "    }\n",
              "</style>\n",
              "<table border=\"1\" class=\"dataframe\">\n",
              "  <thead>\n",
              "    <tr style=\"text-align: right;\">\n",
              "      <th></th>\n",
              "      <th>match_id</th>\n",
              "      <th>stage</th>\n",
              "      <th>date</th>\n",
              "      <th>pens</th>\n",
              "      <th>pens_home_score</th>\n",
              "      <th>pens_away_score</th>\n",
              "      <th>team_name_home</th>\n",
              "      <th>team_name_away</th>\n",
              "      <th>team_home_score</th>\n",
              "      <th>team_away_score</th>\n",
              "      <th>...</th>\n",
              "      <th>prediction_draw</th>\n",
              "      <th>prediction_team_away_win</th>\n",
              "      <th>prediction_quantity</th>\n",
              "      <th>location</th>\n",
              "      <th>lineup_home</th>\n",
              "      <th>lineup_away</th>\n",
              "      <th>player_names_home</th>\n",
              "      <th>player_numbers_home</th>\n",
              "      <th>player_names_away</th>\n",
              "      <th>player_numbers_away</th>\n",
              "    </tr>\n",
              "  </thead>\n",
              "  <tbody>\n",
              "    <tr>\n",
              "      <th>59</th>\n",
              "      <td>60</td>\n",
              "      <td>Group stage: Matchday 1</td>\n",
              "      <td>22/11/2022</td>\n",
              "      <td>False</td>\n",
              "      <td>False</td>\n",
              "      <td>False</td>\n",
              "      <td>Argentina</td>\n",
              "      <td>Saudi Arabia</td>\n",
              "      <td>1</td>\n",
              "      <td>2</td>\n",
              "      <td>...</td>\n",
              "      <td>0.02</td>\n",
              "      <td>0.04</td>\n",
              "      <td>657383</td>\n",
              "      <td>Lusail Iconic Stadium</td>\n",
              "      <td>[{'player_name': ' Martínez ', 'player_number'...</td>\n",
              "      <td>[{'player_name': ' Al-Shehri ', 'player_number...</td>\n",
              "      <td>['Martínez', 'Messi', 'Gómez', 'Paredes', 'De ...</td>\n",
              "      <td>['22', '10', '17', '5', '7', '11', '3', '19', ...</td>\n",
              "      <td>['Al-Shehri', 'Al-Dawsari', 'Kanno', 'Al-Faraj...</td>\n",
              "      <td>['11', '10', '23', '7', '9', '8', '13', '5', '...</td>\n",
              "    </tr>\n",
              "    <tr>\n",
              "      <th>60</th>\n",
              "      <td>61</td>\n",
              "      <td>Group stage: Matchday 1</td>\n",
              "      <td>21/11/2022</td>\n",
              "      <td>False</td>\n",
              "      <td>False</td>\n",
              "      <td>False</td>\n",
              "      <td>USA</td>\n",
              "      <td>Wales</td>\n",
              "      <td>1</td>\n",
              "      <td>1</td>\n",
              "      <td>...</td>\n",
              "      <td>0.09</td>\n",
              "      <td>0.40</td>\n",
              "      <td>361145</td>\n",
              "      <td>Ahmad bin Ali Stadium</td>\n",
              "      <td>[{'player_name': ' Pulisic ', 'player_number':...</td>\n",
              "      <td>[{'player_name': ' James ', 'player_number': '...</td>\n",
              "      <td>['Pulisic', 'Sargent', 'Weah', 'Musah', 'Adams...</td>\n",
              "      <td>['10', '24', '21', '6', '4', '8', '5', '13', '...</td>\n",
              "      <td>['James', 'Bale', 'Williams', 'Wilson', 'Ampad...</td>\n",
              "      <td>['20', '11', '3', '8', '15', '10', '14', '4', ...</td>\n",
              "    </tr>\n",
              "    <tr>\n",
              "      <th>61</th>\n",
              "      <td>62</td>\n",
              "      <td>Group stage: Matchday 1</td>\n",
              "      <td>21/11/2022</td>\n",
              "      <td>False</td>\n",
              "      <td>False</td>\n",
              "      <td>False</td>\n",
              "      <td>Senegal</td>\n",
              "      <td>Netherlands</td>\n",
              "      <td>0</td>\n",
              "      <td>2</td>\n",
              "      <td>...</td>\n",
              "      <td>0.07</td>\n",
              "      <td>0.71</td>\n",
              "      <td>457977</td>\n",
              "      <td>Al Thumama Stadium</td>\n",
              "      <td>[{'player_name': ' Dia ', 'player_number': ' 9...</td>\n",
              "      <td>[{'player_name': ' Bergwijn ', 'player_number'...</td>\n",
              "      <td>['Dia', 'Sarr', 'Gueye', 'Diatta', 'Mendy', 'K...</td>\n",
              "      <td>['9', '18', '5', '15', '6', '8', '22', '4', '3...</td>\n",
              "      <td>['Bergwijn', 'Janssen', 'Gakpo', 'Blind', 'De ...</td>\n",
              "      <td>['7', '18', '8', '17', '21', '11', '22', '5', ...</td>\n",
              "    </tr>\n",
              "    <tr>\n",
              "      <th>62</th>\n",
              "      <td>63</td>\n",
              "      <td>Group stage: Matchday 1</td>\n",
              "      <td>21/11/2022</td>\n",
              "      <td>False</td>\n",
              "      <td>False</td>\n",
              "      <td>False</td>\n",
              "      <td>England</td>\n",
              "      <td>Iran</td>\n",
              "      <td>6</td>\n",
              "      <td>2</td>\n",
              "      <td>...</td>\n",
              "      <td>0.02</td>\n",
              "      <td>0.06</td>\n",
              "      <td>498752</td>\n",
              "      <td>Khalifa International Stadium</td>\n",
              "      <td>[{'player_name': ' Kane ', 'player_number': ' ...</td>\n",
              "      <td>[{'player_name': ' Taremi ', 'player_number': ...</td>\n",
              "      <td>['Kane', 'Sterling', 'Mount', 'Saka', 'Rice', ...</td>\n",
              "      <td>['9', '10', '19', '17', '4', '22', '3', '6', '...</td>\n",
              "      <td>['Taremi', 'Hajsafi', 'Karimi', 'Nourollahi', ...</td>\n",
              "      <td>['9', '3', '18', '21', '7', '5', '19', '15', '...</td>\n",
              "    </tr>\n",
              "    <tr>\n",
              "      <th>63</th>\n",
              "      <td>64</td>\n",
              "      <td>Group stage: Matchday 1</td>\n",
              "      <td>20/11/2022</td>\n",
              "      <td>False</td>\n",
              "      <td>False</td>\n",
              "      <td>False</td>\n",
              "      <td>Qatar</td>\n",
              "      <td>Ecuador</td>\n",
              "      <td>0</td>\n",
              "      <td>2</td>\n",
              "      <td>...</td>\n",
              "      <td>0.06</td>\n",
              "      <td>0.66</td>\n",
              "      <td>528736</td>\n",
              "      <td>Al Bayt Stadium</td>\n",
              "      <td>[{'player_name': ' Afif ', 'player_number': ' ...</td>\n",
              "      <td>[{'player_name': ' Estrada ', 'player_number':...</td>\n",
              "      <td>['Afif', 'Almoez', 'Abdulaziz', 'Boudiaf', 'Al...</td>\n",
              "      <td>['11', '19', '6', '12', '10', '14', '3', '16',...</td>\n",
              "      <td>['Estrada', 'Valencia', 'Ibarra', 'Caicedo', '...</td>\n",
              "      <td>['11', '13', '10', '23', '20', '19', '7', '3',...</td>\n",
              "    </tr>\n",
              "  </tbody>\n",
              "</table>\n",
              "<p>5 rows × 29 columns</p>\n",
              "</div>"
            ],
            "text/plain": [
              "    match_id                    stage        date   pens pens_home_score  \\\n",
              "59        60  Group stage: Matchday 1  22/11/2022  False           False   \n",
              "60        61  Group stage: Matchday 1  21/11/2022  False           False   \n",
              "61        62  Group stage: Matchday 1  21/11/2022  False           False   \n",
              "62        63  Group stage: Matchday 1  21/11/2022  False           False   \n",
              "63        64  Group stage: Matchday 1  20/11/2022  False           False   \n",
              "\n",
              "   pens_away_score team_name_home team_name_away  team_home_score  \\\n",
              "59           False      Argentina   Saudi Arabia                1   \n",
              "60           False            USA          Wales                1   \n",
              "61           False        Senegal    Netherlands                0   \n",
              "62           False        England           Iran                6   \n",
              "63           False          Qatar        Ecuador                0   \n",
              "\n",
              "    team_away_score  ...  prediction_draw  prediction_team_away_win  \\\n",
              "59                2  ...             0.02                      0.04   \n",
              "60                1  ...             0.09                      0.40   \n",
              "61                2  ...             0.07                      0.71   \n",
              "62                2  ...             0.02                      0.06   \n",
              "63                2  ...             0.06                      0.66   \n",
              "\n",
              "    prediction_quantity                       location  \\\n",
              "59               657383          Lusail Iconic Stadium   \n",
              "60               361145          Ahmad bin Ali Stadium   \n",
              "61               457977             Al Thumama Stadium   \n",
              "62               498752  Khalifa International Stadium   \n",
              "63               528736                Al Bayt Stadium   \n",
              "\n",
              "                                          lineup_home  \\\n",
              "59  [{'player_name': ' Martínez ', 'player_number'...   \n",
              "60  [{'player_name': ' Pulisic ', 'player_number':...   \n",
              "61  [{'player_name': ' Dia ', 'player_number': ' 9...   \n",
              "62  [{'player_name': ' Kane ', 'player_number': ' ...   \n",
              "63  [{'player_name': ' Afif ', 'player_number': ' ...   \n",
              "\n",
              "                                          lineup_away  \\\n",
              "59  [{'player_name': ' Al-Shehri ', 'player_number...   \n",
              "60  [{'player_name': ' James ', 'player_number': '...   \n",
              "61  [{'player_name': ' Bergwijn ', 'player_number'...   \n",
              "62  [{'player_name': ' Taremi ', 'player_number': ...   \n",
              "63  [{'player_name': ' Estrada ', 'player_number':...   \n",
              "\n",
              "                                    player_names_home  \\\n",
              "59  ['Martínez', 'Messi', 'Gómez', 'Paredes', 'De ...   \n",
              "60  ['Pulisic', 'Sargent', 'Weah', 'Musah', 'Adams...   \n",
              "61  ['Dia', 'Sarr', 'Gueye', 'Diatta', 'Mendy', 'K...   \n",
              "62  ['Kane', 'Sterling', 'Mount', 'Saka', 'Rice', ...   \n",
              "63  ['Afif', 'Almoez', 'Abdulaziz', 'Boudiaf', 'Al...   \n",
              "\n",
              "                                  player_numbers_home  \\\n",
              "59  ['22', '10', '17', '5', '7', '11', '3', '19', ...   \n",
              "60  ['10', '24', '21', '6', '4', '8', '5', '13', '...   \n",
              "61  ['9', '18', '5', '15', '6', '8', '22', '4', '3...   \n",
              "62  ['9', '10', '19', '17', '4', '22', '3', '6', '...   \n",
              "63  ['11', '19', '6', '12', '10', '14', '3', '16',...   \n",
              "\n",
              "                                    player_names_away  \\\n",
              "59  ['Al-Shehri', 'Al-Dawsari', 'Kanno', 'Al-Faraj...   \n",
              "60  ['James', 'Bale', 'Williams', 'Wilson', 'Ampad...   \n",
              "61  ['Bergwijn', 'Janssen', 'Gakpo', 'Blind', 'De ...   \n",
              "62  ['Taremi', 'Hajsafi', 'Karimi', 'Nourollahi', ...   \n",
              "63  ['Estrada', 'Valencia', 'Ibarra', 'Caicedo', '...   \n",
              "\n",
              "                                  player_numbers_away  \n",
              "59  ['11', '10', '23', '7', '9', '8', '13', '5', '...  \n",
              "60  ['20', '11', '3', '8', '15', '10', '14', '4', ...  \n",
              "61  ['7', '18', '8', '17', '21', '11', '22', '5', ...  \n",
              "62  ['9', '3', '18', '21', '7', '5', '19', '15', '...  \n",
              "63  ['11', '13', '10', '23', '20', '19', '7', '3',...  \n",
              "\n",
              "[5 rows x 29 columns]"
            ]
          },
          "metadata": {},
          "output_type": "display_data"
        },
        {
          "data": {
            "text/html": [
              "<div>\n",
              "<style scoped>\n",
              "    .dataframe tbody tr th:only-of-type {\n",
              "        vertical-align: middle;\n",
              "    }\n",
              "\n",
              "    .dataframe tbody tr th {\n",
              "        vertical-align: top;\n",
              "    }\n",
              "\n",
              "    .dataframe thead th {\n",
              "        text-align: right;\n",
              "    }\n",
              "</style>\n",
              "<table border=\"1\" class=\"dataframe\">\n",
              "  <thead>\n",
              "    <tr style=\"text-align: right;\">\n",
              "      <th></th>\n",
              "      <th>match_id</th>\n",
              "      <th>team_name_home</th>\n",
              "      <th>team_name_away</th>\n",
              "      <th>events_list</th>\n",
              "    </tr>\n",
              "  </thead>\n",
              "  <tbody>\n",
              "    <tr>\n",
              "      <th>59</th>\n",
              "      <td>60</td>\n",
              "      <td>Argentina</td>\n",
              "      <td>Saudi Arabia</td>\n",
              "      <td>[{'event_team': 'home', 'event_time': \" 10' \",...</td>\n",
              "    </tr>\n",
              "    <tr>\n",
              "      <th>60</th>\n",
              "      <td>61</td>\n",
              "      <td>USA</td>\n",
              "      <td>Wales</td>\n",
              "      <td>[{'event_team': 'home', 'event_time': \" 11' \",...</td>\n",
              "    </tr>\n",
              "    <tr>\n",
              "      <th>61</th>\n",
              "      <td>62</td>\n",
              "      <td>Senegal</td>\n",
              "      <td>Netherlands</td>\n",
              "      <td>[{'event_team': 'away', 'event_time': \" 56' \",...</td>\n",
              "    </tr>\n",
              "    <tr>\n",
              "      <th>62</th>\n",
              "      <td>63</td>\n",
              "      <td>England</td>\n",
              "      <td>Iran</td>\n",
              "      <td>[{'event_team': 'away', 'event_time': \" 20' \",...</td>\n",
              "    </tr>\n",
              "    <tr>\n",
              "      <th>63</th>\n",
              "      <td>64</td>\n",
              "      <td>Qatar</td>\n",
              "      <td>Ecuador</td>\n",
              "      <td>[{'event_team': 'away', 'event_time': \" 4' \", ...</td>\n",
              "    </tr>\n",
              "  </tbody>\n",
              "</table>\n",
              "</div>"
            ],
            "text/plain": [
              "    match_id team_name_home team_name_away  \\\n",
              "59        60      Argentina   Saudi Arabia   \n",
              "60        61            USA          Wales   \n",
              "61        62        Senegal    Netherlands   \n",
              "62        63        England           Iran   \n",
              "63        64          Qatar        Ecuador   \n",
              "\n",
              "                                          events_list  \n",
              "59  [{'event_team': 'home', 'event_time': \" 10' \",...  \n",
              "60  [{'event_team': 'home', 'event_time': \" 11' \",...  \n",
              "61  [{'event_team': 'away', 'event_time': \" 56' \",...  \n",
              "62  [{'event_team': 'away', 'event_time': \" 20' \",...  \n",
              "63  [{'event_team': 'away', 'event_time': \" 4' \", ...  "
            ]
          },
          "metadata": {},
          "output_type": "display_data"
        }
      ],
      "source": [
        "display(df_matches.tail())\n",
        "display(df_events.tail())"
      ]
    },
    {
      "cell_type": "markdown",
      "metadata": {
        "id": "h60ItSAnyW2P"
      },
      "source": [
        "## In ra thông tin của từng dataframe"
      ]
    },
    {
      "cell_type": "code",
      "execution_count": 10,
      "metadata": {
        "colab": {
          "base_uri": "https://localhost:8080/"
        },
        "id": "YlAUSIFJ4wNl",
        "outputId": "acf0f309-4b08-4f8d-f43d-20499630bb3c"
      },
      "outputs": [
        {
          "name": "stdout",
          "output_type": "stream",
          "text": [
            "<class 'pandas.core.frame.DataFrame'>\n",
            "RangeIndex: 64 entries, 0 to 63\n",
            "Data columns (total 29 columns):\n",
            " #   Column                    Non-Null Count  Dtype  \n",
            "---  ------                    --------------  -----  \n",
            " 0   match_id                  64 non-null     int64  \n",
            " 1   stage                     64 non-null     object \n",
            " 2   date                      64 non-null     object \n",
            " 3   pens                      64 non-null     bool   \n",
            " 4   pens_home_score           64 non-null     object \n",
            " 5   pens_away_score           64 non-null     object \n",
            " 6   team_name_home            64 non-null     object \n",
            " 7   team_name_away            64 non-null     object \n",
            " 8   team_home_score           64 non-null     int64  \n",
            " 9   team_away_score           64 non-null     int64  \n",
            " 10  possession_home           64 non-null     float64\n",
            " 11  possession_away           64 non-null     float64\n",
            " 12  total_shots_home          64 non-null     int64  \n",
            " 13  total_shots_away          64 non-null     int64  \n",
            " 14  shots_on_target_home      64 non-null     int64  \n",
            " 15  shots_on_target_away      64 non-null     int64  \n",
            " 16  duels_won_home            64 non-null     float64\n",
            " 17  duels_won_away            64 non-null     float64\n",
            " 18  prediction_team_home_win  64 non-null     float64\n",
            " 19  prediction_draw           64 non-null     float64\n",
            " 20  prediction_team_away_win  64 non-null     float64\n",
            " 21  prediction_quantity       64 non-null     int64  \n",
            " 22  location                  64 non-null     object \n",
            " 23  lineup_home               64 non-null     object \n",
            " 24  lineup_away               64 non-null     object \n",
            " 25  player_names_home         64 non-null     object \n",
            " 26  player_numbers_home       64 non-null     object \n",
            " 27  player_names_away         64 non-null     object \n",
            " 28  player_numbers_away       64 non-null     object \n",
            "dtypes: bool(1), float64(7), int64(8), object(13)\n",
            "memory usage: 14.2+ KB\n"
          ]
        }
      ],
      "source": [
        "df_matches.info()"
      ]
    },
    {
      "cell_type": "code",
      "execution_count": 11,
      "metadata": {
        "colab": {
          "base_uri": "https://localhost:8080/"
        },
        "id": "-daXQ4Sm1EPy",
        "outputId": "eb04fdca-bbc3-4d08-f342-b4eb3b2e883f"
      },
      "outputs": [
        {
          "name": "stdout",
          "output_type": "stream",
          "text": [
            "<class 'pandas.core.frame.DataFrame'>\n",
            "RangeIndex: 64 entries, 0 to 63\n",
            "Data columns (total 4 columns):\n",
            " #   Column          Non-Null Count  Dtype \n",
            "---  ------          --------------  ----- \n",
            " 0   match_id        64 non-null     int64 \n",
            " 1   team_name_home  64 non-null     object\n",
            " 2   team_name_away  64 non-null     object\n",
            " 3   events_list     64 non-null     object\n",
            "dtypes: int64(1), object(3)\n",
            "memory usage: 2.1+ KB\n"
          ]
        }
      ],
      "source": [
        "df_events.info()"
      ]
    },
    {
      "cell_type": "markdown",
      "metadata": {
        "id": "tIn8C_W-1UHL"
      },
      "source": [
        "- Hãy kiểm tra xem các data frame có giá trị null không\n",
        "- Nếu có hãy trình bày cách giải quyết của bản thân đối với dữ liệu null đó, và code cách giải quyết dưới cell code bên dưới\n",
        "- Nếu không có cách giải quyết thì cũng ghi là không có cách giải quyết\n"
      ]
    },
    {
      "cell_type": "markdown",
      "metadata": {
        "id": "uCLO1ckZ2rTa"
      },
      "source": [
        "Ghi cách giải quyết của bản thân vào đây: ..."
      ]
    },
    {
      "cell_type": "code",
      "execution_count": 12,
      "metadata": {
        "colab": {
          "base_uri": "https://localhost:8080/"
        },
        "id": "zu_hydx51TOO",
        "outputId": "1b22259e-7b94-45f2-f9d6-7c9e1d091880"
      },
      "outputs": [
        {
          "data": {
            "text/plain": [
              "0"
            ]
          },
          "execution_count": 12,
          "metadata": {},
          "output_type": "execute_result"
        }
      ],
      "source": [
        "df.isnull().sum().sum()"
      ]
    },
    {
      "cell_type": "markdown",
      "metadata": {
        "id": "e8ecXZWNZt9H"
      },
      "source": [
        "- Như vậy thì dữ liệu trên không có dữ liệu Null\n",
        "- Nhưng nếu có thì chúng ta có thể fill các dữ liệu trên theo giá trị mean, max, median,.. hoặc có thể xóa đi những dữ liệu đó\n",
        "tùy theo cách chúng ta giải quyết."
      ]
    },
    {
      "cell_type": "markdown",
      "metadata": {
        "id": "Qy60qLjT5fc1"
      },
      "source": [
        "## Lấy ra các trận đấu có từ 3 bàn thắng trở lên (ghi ra tên cặp đấu)"
      ]
    },
    {
      "cell_type": "code",
      "execution_count": 13,
      "metadata": {
        "colab": {
          "base_uri": "https://localhost:8080/",
          "height": 457
        },
        "id": "WV8o0Gp_5fCA",
        "outputId": "b65396f5-9216-4825-bf2e-1e56ff2918ac"
      },
      "outputs": [
        {
          "data": {
            "text/html": [
              "<div>\n",
              "<style scoped>\n",
              "    .dataframe tbody tr th:only-of-type {\n",
              "        vertical-align: middle;\n",
              "    }\n",
              "\n",
              "    .dataframe tbody tr th {\n",
              "        vertical-align: top;\n",
              "    }\n",
              "\n",
              "    .dataframe thead th {\n",
              "        text-align: right;\n",
              "    }\n",
              "</style>\n",
              "<table border=\"1\" class=\"dataframe\">\n",
              "  <thead>\n",
              "    <tr style=\"text-align: right;\">\n",
              "      <th></th>\n",
              "      <th>team_name_home</th>\n",
              "      <th>team_name_away</th>\n",
              "    </tr>\n",
              "  </thead>\n",
              "  <tbody>\n",
              "    <tr>\n",
              "      <th>0</th>\n",
              "      <td>Argentina</td>\n",
              "      <td>France</td>\n",
              "    </tr>\n",
              "    <tr>\n",
              "      <th>3</th>\n",
              "      <td>Argentina</td>\n",
              "      <td>Croatia</td>\n",
              "    </tr>\n",
              "    <tr>\n",
              "      <th>8</th>\n",
              "      <td>Portugal</td>\n",
              "      <td>Switzerland</td>\n",
              "    </tr>\n",
              "    <tr>\n",
              "      <th>10</th>\n",
              "      <td>Brazil</td>\n",
              "      <td>South Korea</td>\n",
              "    </tr>\n",
              "    <tr>\n",
              "      <th>12</th>\n",
              "      <td>England</td>\n",
              "      <td>Senegal</td>\n",
              "    </tr>\n",
              "    <tr>\n",
              "      <th>13</th>\n",
              "      <td>France</td>\n",
              "      <td>Poland</td>\n",
              "    </tr>\n",
              "    <tr>\n",
              "      <th>15</th>\n",
              "      <td>Netherlands</td>\n",
              "      <td>USA</td>\n",
              "    </tr>\n",
              "    <tr>\n",
              "      <th>35</th>\n",
              "      <td>Cameroon</td>\n",
              "      <td>Serbia</td>\n",
              "    </tr>\n",
              "    <tr>\n",
              "      <th>37</th>\n",
              "      <td>Croatia</td>\n",
              "      <td>Canada</td>\n",
              "    </tr>\n",
              "    <tr>\n",
              "      <th>49</th>\n",
              "      <td>Portugal</td>\n",
              "      <td>Ghana</td>\n",
              "    </tr>\n",
              "    <tr>\n",
              "      <th>53</th>\n",
              "      <td>Spain</td>\n",
              "      <td>Costa Rica</td>\n",
              "    </tr>\n",
              "    <tr>\n",
              "      <th>56</th>\n",
              "      <td>France</td>\n",
              "      <td>Australia</td>\n",
              "    </tr>\n",
              "    <tr>\n",
              "      <th>62</th>\n",
              "      <td>England</td>\n",
              "      <td>Iran</td>\n",
              "    </tr>\n",
              "  </tbody>\n",
              "</table>\n",
              "</div>"
            ],
            "text/plain": [
              "   team_name_home team_name_away\n",
              "0       Argentina         France\n",
              "3       Argentina        Croatia\n",
              "8        Portugal    Switzerland\n",
              "10         Brazil    South Korea\n",
              "12        England        Senegal\n",
              "13         France         Poland\n",
              "15    Netherlands            USA\n",
              "35       Cameroon         Serbia\n",
              "37        Croatia         Canada\n",
              "49       Portugal          Ghana\n",
              "53          Spain     Costa Rica\n",
              "56         France      Australia\n",
              "62        England           Iran"
            ]
          },
          "execution_count": 13,
          "metadata": {},
          "output_type": "execute_result"
        }
      ],
      "source": [
        "df_matches[df_matches['team_home_score'] >= 3][['team_name_home','team_name_away']]"
      ]
    },
    {
      "cell_type": "markdown",
      "metadata": {
        "id": "GlqAhl_Q5zSk"
      },
      "source": [
        "## Thống kê các sân vận động diễn ra các trận đấu và hiển thị tỷ lệ phần trăm của các sân vận động bằng biểu đồ thích hợp"
      ]
    },
    {
      "cell_type": "code",
      "execution_count": 14,
      "metadata": {
        "colab": {
          "base_uri": "https://localhost:8080/",
          "height": 596
        },
        "id": "u68SdjY25y8F",
        "outputId": "e27566a6-419b-42d2-c9ab-b18e1799547c"
      },
      "outputs": [
        {
          "data": {
            "image/png": "[encoded data removed]",
            "text/plain": [
              "<Figure size 640x480 with 1 Axes>"
            ]
          },
          "metadata": {},
          "output_type": "display_data"
        }
      ],
      "source": [
        "df['location'].value_counts().plot(kind='bar')\n",
        "plt.ylabel(\"Occurences\")\n",
        "plt.show()"
      ]
    },
    {
      "cell_type": "code",
      "execution_count": 15,
      "metadata": {
        "colab": {
          "base_uri": "https://localhost:8080/",
          "height": 422
        },
        "id": "GW4lUZ5AaIlk",
        "outputId": "3aafe91d-a34e-43e4-b026-dd5be9a2dd88"
      },
      "outputs": [
        {
          "data": {
            "image/png": "[encoded data removed]",
            "text/plain": [
              "<Figure size 1000x500 with 1 Axes>"
            ]
          },
          "metadata": {},
          "output_type": "display_data"
        }
      ],
      "source": [
        "df['location'].value_counts().plot(kind='pie', autopct='%1.1f%%', figsize=(10, 5))\n",
        "plt.ylabel(\"\")\n",
        "plt.show()"
      ]
    },
    {
      "cell_type": "markdown",
      "metadata": {
        "id": "xLVi1YWBu0ya"
      },
      "source": [
        "## Lấy ra tên của các đội tham dự giải đấu"
      ]
    },
    {
      "cell_type": "code",
      "execution_count": 16,
      "metadata": {
        "colab": {
          "base_uri": "https://localhost:8080/"
        },
        "id": "-7NR6aOau0cs",
        "outputId": "f5341183-065e-4480-de53-1d04034fb48b"
      },
      "outputs": [
        {
          "data": {
            "text/plain": [
              "array(['Argentina', 'Croatia', 'France', 'England', 'Morocco',\n",
              "       'Netherlands', 'Portugal', 'Brazil', 'Japan', 'Cameroon', 'Serbia',\n",
              "       'South Korea', 'Ghana', 'Costa Rica', 'Canada', 'Poland',\n",
              "       'Saudi Arabia', 'Tunisia', 'Australia', 'Wales', 'Iran', 'Ecuador',\n",
              "       'Spain', 'Belgium', 'Qatar', 'Uruguay', 'Switzerland', 'Germany',\n",
              "       'Mexico', 'Denmark', 'USA', 'Senegal'], dtype=object)"
            ]
          },
          "execution_count": 16,
          "metadata": {},
          "output_type": "execute_result"
        }
      ],
      "source": [
        "df_matches['team_name_home'].unique()"
      ]
    },
    {
      "cell_type": "markdown",
      "metadata": {
        "id": "Z-BWfpm1wOzg"
      },
      "source": [
        "## Lấy ra số bàn thắng được ghi bởi các đội"
      ]
    },
    {
      "cell_type": "code",
      "execution_count": 17,
      "metadata": {
        "colab": {
          "base_uri": "https://localhost:8080/"
        },
        "id": "FrcC8LX2wOP5",
        "outputId": "8521bd52-7f72-4ae2-88f2-8eb1ff2e4f48"
      },
      "outputs": [
        {
          "data": {
            "text/plain": [
              "team_name_home\n",
              "France          16\n",
              "Argentina       15\n",
              "England         13\n",
              "Portugal        12\n",
              "Netherlands     10\n",
              "Spain            9\n",
              "Brazil           8\n",
              "Croatia          8\n",
              "Morocco          6\n",
              "Germany          6\n",
              "Switzerland      5\n",
              "South Korea      5\n",
              "Ghana            5\n",
              "Japan            5\n",
              "Senegal          5\n",
              "Serbia           5\n",
              "Ecuador          4\n",
              "Iran             4\n",
              "Australia        4\n",
              "Cameroon         4\n",
              "Costa Rica       3\n",
              "USA              3\n",
              "Poland           3\n",
              "Saudi Arabia     3\n",
              "Uruguay          2\n",
              "Mexico           2\n",
              "Canada           2\n",
              "Qatar            1\n",
              "Denmark          1\n",
              "Tunisia          1\n",
              "Belgium          1\n",
              "Wales            1\n",
              "dtype: int64"
            ]
          },
          "execution_count": 17,
          "metadata": {},
          "output_type": "execute_result"
        }
      ],
      "source": [
        "home = df_matches.groupby('team_name_home')['team_home_score'].sum()\n",
        "away = df_matches.groupby('team_name_away')['team_away_score'].sum()\n",
        "goals = (home + away).sort_values(ascending=False)\n",
        "goals"
      ]
    },
    {
      "cell_type": "markdown",
      "metadata": {
        "id": "HGqkkm2VwXSQ"
      },
      "source": [
        "## Vẽ biểu đồ thể hiện số bàn thắng được ghi bởi mỗi đội (tự chọn kiểu biểu đồ phù hợp)"
      ]
    },
    {
      "cell_type": "code",
      "execution_count": 18,
      "metadata": {
        "colab": {
          "base_uri": "https://localhost:8080/",
          "height": 511
        },
        "id": "IcAtUHd9wl3g",
        "outputId": "67732bd9-f658-498f-d6e6-bca8d3230347"
      },
      "outputs": [
        {
          "data": {
            "image/png": "[encoded data removed]",
            "text/plain": [
              "<Figure size 640x480 with 1 Axes>"
            ]
          },
          "metadata": {},
          "output_type": "display_data"
        }
      ],
      "source": [
        "goals.head(10).plot(kind='bar')\n",
        "plt.ylabel(\"Goals\");"
      ]
    },
    {
      "cell_type": "markdown",
      "metadata": {
        "id": "yDNxS4mawqj5"
      },
      "source": [
        "##Thống kê số lượng bàn thắng được ghi bởi các cầu thủ Argentina bằng biểu đồ tròn\n",
        "\n",
        "- Yêu cầu phải có tiêu đề cho biểu đồ, chú thích\n",
        "- Có tỷ lệ phần trăm cho từng cầu thủ\n",
        "- Tách phần của Alexis Mac Allister ra khỏi biểu đồ"
      ]
    },
    {
      "cell_type": "code",
      "execution_count": 19,
      "metadata": {
        "id": "rjtXSK90wqLh"
      },
      "outputs": [],
      "source": [
        "def get_goals_scored(data, country_name=False, match_turn= 'both', get_assits_scored=False):\n",
        "\n",
        "    '''\n",
        "    Return a dictionary of goals scored by each player\n",
        "    ## Parameters:\n",
        "1. `data`: Dataframe\n",
        "\n",
        "2. `country_name`: optional, represents the name of a specific country. If provided, the function will filter the matches based on the country name before counting the goals scored.\n",
        "\n",
        "3. `match_turn`: optional, determines which matches turn to consider for counting goals. It can take three possible values:\n",
        "   - `'both'`: This is the default value. It means that goals from both home and away matches will be counted.\n",
        "   - `'home'`: Only goals from home matches will be counted.\n",
        "   - `'away'`: Only goals from away matches will be counted.\n",
        "\n",
        "4. `get_assits_scored`: optional, determines whether to count assists along with goals. If set to `True`, the function will count both goals and assists. If set to `False` (default), only goals will be counted.\n",
        "    '''\n",
        "    if match_turn == 'both':\n",
        "        match_turn = ['home', 'away']\n",
        "    else:\n",
        "        match_turn = [match_turn]\n",
        "\n",
        "    goals_count = pd.Series()\n",
        "    assits_count = pd.Series() if get_assits_scored else None\n",
        "\n",
        "    matches = data\n",
        "\n",
        "    for turn in match_turn:\n",
        "        if country_name:\n",
        "            matches = data[data['team_name_' + turn] == country_name]\n",
        "\n",
        "        events_list = matches['events_list'].apply(eval)\n",
        "        for events in events_list:\n",
        "            for event in events:\n",
        "                if event['event_team'] == turn and event['event_type'] in ['Penalty' ,'Goal']:\n",
        "                    player_name = event['action_player_1'].strip()\n",
        "                    goals_count[player_name] = goals_count.get(player_name, 0) + 1\n",
        "\n",
        "                    if event['event_type'] == 'Goal' and get_assits_scored and 'action_player_2' in event:\n",
        "                        assits_player_name = event['action_player_2'].strip()\n",
        "                        assits_count[assits_player_name] = assits_count.get(assits_player_name, 0) + 1\n",
        "    if get_assits_scored:\n",
        "        return goals_count, assits_count\n",
        "    return goals_count"
      ]
    },
    {
      "cell_type": "code",
      "execution_count": 30,
      "metadata": {
        "colab": {
          "base_uri": "https://localhost:8080/",
          "height": 542
        },
        "id": "SUN0M-lRzZ-q",
        "outputId": "5b8acb1b-a5c8-4d99-d59e-2da795716733"
      },
      "outputs": [
        {
          "data": {
            "application/vnd.plotly.v1+json": {
              "config": {
                "plotlyServerURL": "https://plot.ly"
              },
              "data": [
                {
                  "domain": {
                    "x": [
                      0,
                      1
                    ],
                    "y": [
                      0,
                      1
                    ]
                  },
                  "hovertemplate": "label=%{label}<br>value=%{value}<extra></extra>",
                  "labels": [
                    "Lionel Messi",
                    "Ángel Di María",
                    "Julián Álvarez",
                    "Enzo Fernández",
                    "Nahuel Molina"
                  ],
                  "legendgroup": "",
                  "marker": {
                    "colors": [
                      "rgb(102, 197, 204)",
                      "rgb(246, 207, 113)",
                      "rgb(248, 156, 116)",
                      "rgb(220, 176, 242)",
                      "rgb(135, 197, 95)",
                      "rgb(158, 185, 243)",
                      "rgb(254, 136, 177)",
                      "rgb(201, 219, 116)",
                      "rgb(139, 224, 164)",
                      "rgb(180, 151, 231)",
                      "rgb(179, 179, 179)"
                    ]
                  },
                  "name": "",
                  "showlegend": true,
                  "textinfo": "percent+label",
                  "textposition": "inside",
                  "type": "pie",
                  "values": [
                    7,
                    1,
                    4,
                    1,
                    1
                  ]
                }
              ],
              "layout": {
                "legend": {
                  "font": {
                    "size": 12
                  },
                  "orientation": "h",
                  "title": {
                    "text": "Players"
                  },
                  "tracegroupgap": 0,
                  "x": 0.5,
                  "xanchor": "center",
                  "y": -0.2,
                  "yanchor": "bottom"
                },
                "template": {
                  "data": {
                    "bar": [
                      {
                        "error_x": {
                          "color": "#2a3f5f"
                        },
                        "error_y": {
                          "color": "#2a3f5f"
                        },
                        "marker": {
                          "line": {
                            "color": "#E5ECF6",
                            "width": 0.5
                          },
                          "pattern": {
                            "fillmode": "overlay",
                            "size": 10,
                            "solidity": 0.2
                          }
                        },
                        "type": "bar"
                      }
                    ],
                    "barpolar": [
                      {
                        "marker": {
                          "line": {
                            "color": "#E5ECF6",
                            "width": 0.5
                          },
                          "pattern": {
                            "fillmode": "overlay",
                            "size": 10,
                            "solidity": 0.2
                          }
                        },
                        "type": "barpolar"
                      }
                    ],
                    "carpet": [
                      {
                        "aaxis": {
                          "endlinecolor": "#2a3f5f",
                          "gridcolor": "white",
                          "linecolor": "white",
                          "minorgridcolor": "white",
                          "startlinecolor": "#2a3f5f"
                        },
                        "baxis": {
                          "endlinecolor": "#2a3f5f",
                          "gridcolor": "white",
                          "linecolor": "white",
                          "minorgridcolor": "white",
                          "startlinecolor": "#2a3f5f"
                        },
                        "type": "carpet"
                      }
                    ],
                    "choropleth": [
                      {
                        "colorbar": {
                          "outlinewidth": 0,
                          "ticks": ""
                        },
                        "type": "choropleth"
                      }
                    ],
                    "contour": [
                      {
                        "colorbar": {
                          "outlinewidth": 0,
                          "ticks": ""
                        },
                        "colorscale": [
                          [
                            0,
                            "#0d0887"
                          ],
                          [
                            0.1111111111111111,
                            "#46039f"
                          ],
                          [
                            0.2222222222222222,
                            "#7201a8"
                          ],
                          [
                            0.3333333333333333,
                            "#9c179e"
                          ],
                          [
                            0.4444444444444444,
                            "#bd3786"
                          ],
                          [
                            0.5555555555555556,
                            "#d8576b"
                          ],
                          [
                            0.6666666666666666,
                            "#ed7953"
                          ],
                          [
                            0.7777777777777778,
                            "#fb9f3a"
                          ],
                          [
                            0.8888888888888888,
                            "#fdca26"
                          ],
                          [
                            1,
                            "#f0f921"
                          ]
                        ],
                        "type": "contour"
                      }
                    ],
                    "contourcarpet": [
                      {
                        "colorbar": {
                          "outlinewidth": 0,
                          "ticks": ""
                        },
                        "type": "contourcarpet"
                      }
                    ],
                    "heatmap": [
                      {
                        "colorbar": {
                          "outlinewidth": 0,
                          "ticks": ""
                        },
                        "colorscale": [
                          [
                            0,
                            "#0d0887"
                          ],
                          [
                            0.1111111111111111,
                            "#46039f"
                          ],
                          [
                            0.2222222222222222,
                            "#7201a8"
                          ],
                          [
                            0.3333333333333333,
                            "#9c179e"
                          ],
                          [
                            0.4444444444444444,
                            "#bd3786"
                          ],
                          [
                            0.5555555555555556,
                            "#d8576b"
                          ],
                          [
                            0.6666666666666666,
                            "#ed7953"
                          ],
                          [
                            0.7777777777777778,
                            "#fb9f3a"
                          ],
                          [
                            0.8888888888888888,
                            "#fdca26"
                          ],
                          [
                            1,
                            "#f0f921"
                          ]
                        ],
                        "type": "heatmap"
                      }
                    ],
                    "heatmapgl": [
                      {
                        "colorbar": {
                          "outlinewidth": 0,
                          "ticks": ""
                        },
                        "colorscale": [
                          [
                            0,
                            "#0d0887"
                          ],
                          [
                            0.1111111111111111,
                            "#46039f"
                          ],
                          [
                            0.2222222222222222,
                            "#7201a8"
                          ],
                          [
                            0.3333333333333333,
                            "#9c179e"
                          ],
                          [
                            0.4444444444444444,
                            "#bd3786"
                          ],
                          [
                            0.5555555555555556,
                            "#d8576b"
                          ],
                          [
                            0.6666666666666666,
                            "#ed7953"
                          ],
                          [
                            0.7777777777777778,
                            "#fb9f3a"
                          ],
                          [
                            0.8888888888888888,
                            "#fdca26"
                          ],
                          [
                            1,
                            "#f0f921"
                          ]
                        ],
                        "type": "heatmapgl"
                      }
                    ],
                    "histogram": [
                      {
                        "marker": {
                          "pattern": {
                            "fillmode": "overlay",
                            "size": 10,
                            "solidity": 0.2
                          }
                        },
                        "type": "histogram"
                      }
                    ],
                    "histogram2d": [
                      {
                        "colorbar": {
                          "outlinewidth": 0,
                          "ticks": ""
                        },
                        "colorscale": [
                          [
                            0,
                            "#0d0887"
                          ],
                          [
                            0.1111111111111111,
                            "#46039f"
                          ],
                          [
                            0.2222222222222222,
                            "#7201a8"
                          ],
                          [
                            0.3333333333333333,
                            "#9c179e"
                          ],
                          [
                            0.4444444444444444,
                            "#bd3786"
                          ],
                          [
                            0.5555555555555556,
                            "#d8576b"
                          ],
                          [
                            0.6666666666666666,
                            "#ed7953"
                          ],
                          [
                            0.7777777777777778,
                            "#fb9f3a"
                          ],
                          [
                            0.8888888888888888,
                            "#fdca26"
                          ],
                          [
                            1,
                            "#f0f921"
                          ]
                        ],
                        "type": "histogram2d"
                      }
                    ],
                    "histogram2dcontour": [
                      {
                        "colorbar": {
                          "outlinewidth": 0,
                          "ticks": ""
                        },
                        "colorscale": [
                          [
                            0,
                            "#0d0887"
                          ],
                          [
                            0.1111111111111111,
                            "#46039f"
                          ],
                          [
                            0.2222222222222222,
                            "#7201a8"
                          ],
                          [
                            0.3333333333333333,
                            "#9c179e"
                          ],
                          [
                            0.4444444444444444,
                            "#bd3786"
                          ],
                          [
                            0.5555555555555556,
                            "#d8576b"
                          ],
                          [
                            0.6666666666666666,
                            "#ed7953"
                          ],
                          [
                            0.7777777777777778,
                            "#fb9f3a"
                          ],
                          [
                            0.8888888888888888,
                            "#fdca26"
                          ],
                          [
                            1,
                            "#f0f921"
                          ]
                        ],
                        "type": "histogram2dcontour"
                      }
                    ],
                    "mesh3d": [
                      {
                        "colorbar": {
                          "outlinewidth": 0,
                          "ticks": ""
                        },
                        "type": "mesh3d"
                      }
                    ],
                    "parcoords": [
                      {
                        "line": {
                          "colorbar": {
                            "outlinewidth": 0,
                            "ticks": ""
                          }
                        },
                        "type": "parcoords"
                      }
                    ],
                    "pie": [
                      {
                        "automargin": true,
                        "type": "pie"
                      }
                    ],
                    "scatter": [
                      {
                        "fillpattern": {
                          "fillmode": "overlay",
                          "size": 10,
                          "solidity": 0.2
                        },
                        "type": "scatter"
                      }
                    ],
                    "scatter3d": [
                      {
                        "line": {
                          "colorbar": {
                            "outlinewidth": 0,
                            "ticks": ""
                          }
                        },
                        "marker": {
                          "colorbar": {
                            "outlinewidth": 0,
                            "ticks": ""
                          }
                        },
                        "type": "scatter3d"
                      }
                    ],
                    "scattercarpet": [
                      {
                        "marker": {
                          "colorbar": {
                            "outlinewidth": 0,
                            "ticks": ""
                          }
                        },
                        "type": "scattercarpet"
                      }
                    ],
                    "scattergeo": [
                      {
                        "marker": {
                          "colorbar": {
                            "outlinewidth": 0,
                            "ticks": ""
                          }
                        },
                        "type": "scattergeo"
                      }
                    ],
                    "scattergl": [
                      {
                        "marker": {
                          "colorbar": {
                            "outlinewidth": 0,
                            "ticks": ""
                          }
                        },
                        "type": "scattergl"
                      }
                    ],
                    "scattermapbox": [
                      {
                        "marker": {
                          "colorbar": {
                            "outlinewidth": 0,
                            "ticks": ""
                          }
                        },
                        "type": "scattermapbox"
                      }
                    ],
                    "scatterpolar": [
                      {
                        "marker": {
                          "colorbar": {
                            "outlinewidth": 0,
                            "ticks": ""
                          }
                        },
                        "type": "scatterpolar"
                      }
                    ],
                    "scatterpolargl": [
                      {
                        "marker": {
                          "colorbar": {
                            "outlinewidth": 0,
                            "ticks": ""
                          }
                        },
                        "type": "scatterpolargl"
                      }
                    ],
                    "scatterternary": [
                      {
                        "marker": {
                          "colorbar": {
                            "outlinewidth": 0,
                            "ticks": ""
                          }
                        },
                        "type": "scatterternary"
                      }
                    ],
                    "surface": [
                      {
                        "colorbar": {
                          "outlinewidth": 0,
                          "ticks": ""
                        },
                        "colorscale": [
                          [
                            0,
                            "#0d0887"
                          ],
                          [
                            0.1111111111111111,
                            "#46039f"
                          ],
                          [
                            0.2222222222222222,
                            "#7201a8"
                          ],
                          [
                            0.3333333333333333,
                            "#9c179e"
                          ],
                          [
                            0.4444444444444444,
                            "#bd3786"
                          ],
                          [
                            0.5555555555555556,
                            "#d8576b"
                          ],
                          [
                            0.6666666666666666,
                            "#ed7953"
                          ],
                          [
                            0.7777777777777778,
                            "#fb9f3a"
                          ],
                          [
                            0.8888888888888888,
                            "#fdca26"
                          ],
                          [
                            1,
                            "#f0f921"
                          ]
                        ],
                        "type": "surface"
                      }
                    ],
                    "table": [
                      {
                        "cells": {
                          "fill": {
                            "color": "#EBF0F8"
                          },
                          "line": {
                            "color": "white"
                          }
                        },
                        "header": {
                          "fill": {
                            "color": "#C8D4E3"
                          },
                          "line": {
                            "color": "white"
                          }
                        },
                        "type": "table"
                      }
                    ]
                  },
                  "layout": {
                    "annotationdefaults": {
                      "arrowcolor": "#2a3f5f",
                      "arrowhead": 0,
                      "arrowwidth": 1
                    },
                    "autotypenumbers": "strict",
                    "coloraxis": {
                      "colorbar": {
                        "outlinewidth": 0,
                        "ticks": ""
                      }
                    },
                    "colorscale": {
                      "diverging": [
                        [
                          0,
                          "#8e0152"
                        ],
                        [
                          0.1,
                          "#c51b7d"
                        ],
                        [
                          0.2,
                          "#de77ae"
                        ],
                        [
                          0.3,
                          "#f1b6da"
                        ],
                        [
                          0.4,
                          "#fde0ef"
                        ],
                        [
                          0.5,
                          "#f7f7f7"
                        ],
                        [
                          0.6,
                          "#e6f5d0"
                        ],
                        [
                          0.7,
                          "#b8e186"
                        ],
                        [
                          0.8,
                          "#7fbc41"
                        ],
                        [
                          0.9,
                          "#4d9221"
                        ],
                        [
                          1,
                          "#276419"
                        ]
                      ],
                      "sequential": [
                        [
                          0,
                          "#0d0887"
                        ],
                        [
                          0.1111111111111111,
                          "#46039f"
                        ],
                        [
                          0.2222222222222222,
                          "#7201a8"
                        ],
                        [
                          0.3333333333333333,
                          "#9c179e"
                        ],
                        [
                          0.4444444444444444,
                          "#bd3786"
                        ],
                        [
                          0.5555555555555556,
                          "#d8576b"
                        ],
                        [
                          0.6666666666666666,
                          "#ed7953"
                        ],
                        [
                          0.7777777777777778,
                          "#fb9f3a"
                        ],
                        [
                          0.8888888888888888,
                          "#fdca26"
                        ],
                        [
                          1,
                          "#f0f921"
                        ]
                      ],
                      "sequentialminus": [
                        [
                          0,
                          "#0d0887"
                        ],
                        [
                          0.1111111111111111,
                          "#46039f"
                        ],
                        [
                          0.2222222222222222,
                          "#7201a8"
                        ],
                        [
                          0.3333333333333333,
                          "#9c179e"
                        ],
                        [
                          0.4444444444444444,
                          "#bd3786"
                        ],
                        [
                          0.5555555555555556,
                          "#d8576b"
                        ],
                        [
                          0.6666666666666666,
                          "#ed7953"
                        ],
                        [
                          0.7777777777777778,
                          "#fb9f3a"
                        ],
                        [
                          0.8888888888888888,
                          "#fdca26"
                        ],
                        [
                          1,
                          "#f0f921"
                        ]
                      ]
                    },
                    "colorway": [
                      "#636efa",
                      "#EF553B",
                      "#00cc96",
                      "#ab63fa",
                      "#FFA15A",
                      "#19d3f3",
                      "#FF6692",
                      "#B6E880",
                      "#FF97FF",
                      "#FECB52"
                    ],
                    "font": {
                      "color": "#2a3f5f"
                    },
                    "geo": {
                      "bgcolor": "white",
                      "lakecolor": "white",
                      "landcolor": "#E5ECF6",
                      "showlakes": true,
                      "showland": true,
                      "subunitcolor": "white"
                    },
                    "hoverlabel": {
                      "align": "left"
                    },
                    "hovermode": "closest",
                    "mapbox": {
                      "style": "light"
                    },
                    "paper_bgcolor": "white",
                    "plot_bgcolor": "#E5ECF6",
                    "polar": {
                      "angularaxis": {
                        "gridcolor": "white",
                        "linecolor": "white",
                        "ticks": ""
                      },
                      "bgcolor": "#E5ECF6",
                      "radialaxis": {
                        "gridcolor": "white",
                        "linecolor": "white",
                        "ticks": ""
                      }
                    },
                    "scene": {
                      "xaxis": {
                        "backgroundcolor": "#E5ECF6",
                        "gridcolor": "white",
                        "gridwidth": 2,
                        "linecolor": "white",
                        "showbackground": true,
                        "ticks": "",
                        "zerolinecolor": "white"
                      },
                      "yaxis": {
                        "backgroundcolor": "#E5ECF6",
                        "gridcolor": "white",
                        "gridwidth": 2,
                        "linecolor": "white",
                        "showbackground": true,
                        "ticks": "",
                        "zerolinecolor": "white"
                      },
                      "zaxis": {
                        "backgroundcolor": "#E5ECF6",
                        "gridcolor": "white",
                        "gridwidth": 2,
                        "linecolor": "white",
                        "showbackground": true,
                        "ticks": "",
                        "zerolinecolor": "white"
                      }
                    },
                    "shapedefaults": {
                      "line": {
                        "color": "#2a3f5f"
                      }
                    },
                    "ternary": {
                      "aaxis": {
                        "gridcolor": "white",
                        "linecolor": "white",
                        "ticks": ""
                      },
                      "baxis": {
                        "gridcolor": "white",
                        "linecolor": "white",
                        "ticks": ""
                      },
                      "bgcolor": "#E5ECF6",
                      "caxis": {
                        "gridcolor": "white",
                        "linecolor": "white",
                        "ticks": ""
                      }
                    },
                    "title": {
                      "x": 0.05
                    },
                    "xaxis": {
                      "automargin": true,
                      "gridcolor": "white",
                      "linecolor": "white",
                      "ticks": "",
                      "title": {
                        "standoff": 15
                      },
                      "zerolinecolor": "white",
                      "zerolinewidth": 2
                    },
                    "yaxis": {
                      "automargin": true,
                      "gridcolor": "white",
                      "linecolor": "white",
                      "ticks": "",
                      "title": {
                        "standoff": 15
                      },
                      "zerolinecolor": "white",
                      "zerolinewidth": 2
                    }
                  }
                },
                "title": {
                  "font": {
                    "size": 20
                  },
                  "text": "Percentage of Goals Scored by Players in Argentina"
                }
              }
            }
          },
          "metadata": {},
          "output_type": "display_data"
        }
      ],
      "source": [
        "argentina = get_goals_scored(df_events, 'Argentina', match_turn='both').drop('Alexis Mac Allister')\n",
        "\n",
        "fig = px.pie(values=argentina.values, names=argentina.index, title='Percentage of Goals Scored by Players in Argentina')\n",
        "fig.update_traces(\n",
        "    textposition='inside',\n",
        "    textinfo='percent+label',\n",
        "    marker=dict(colors=px.colors.qualitative.Pastel)\n",
        ")\n",
        "\n",
        "fig.update_layout(\n",
        "    title_font=dict(size=20),\n",
        "    legend=dict(\n",
        "        title='Players',\n",
        "        font=dict(size=12),\n",
        "        orientation='h',\n",
        "        yanchor='bottom',\n",
        "        y=-0.2,\n",
        "        xanchor='center',\n",
        "        x=0.5\n",
        "    )\n",
        ")\n",
        "import plotly.io as pio\n",
        "\n",
        "# Set the file path and name\n",
        "file_path = \"plot.png\"\n",
        "\n",
        "# Save the plot as an image\n",
        "pio.write_image(fig, file_path)\n",
        "\n",
        "fig.show()"
      ]
    },
    {
      "cell_type": "markdown",
      "metadata": {
        "id": "QOXoBXL43jJf"
      },
      "source": [
        "## Thống kê tỷ lệ ra sân của các cầu thủ Pháp bằng biểu đồ"
      ]
    },
    {
      "cell_type": "code",
      "execution_count": 21,
      "metadata": {
        "colab": {
          "base_uri": "https://localhost:8080/"
        },
        "id": "cAKkCs593idg",
        "outputId": "000bed89-4839-4ae3-ea6a-9bec92139a0a"
      },
      "outputs": [
        {
          "data": {
            "text/plain": [
              " Tchouaméni     7\n",
              " Mbappé         6\n",
              " Dembélé        6\n",
              " Varane         6\n",
              " Giroud         6\n",
              " Griezmann      6\n",
              " Hernandez      6\n",
              " Lloris         6\n",
              " Upamecano      5\n",
              " Rabiot         5\n",
              " Koundé         5\n",
              " Konaté         3\n",
              " Fofana         2\n",
              " Pavard         1\n",
              " Camavinga      1\n",
              " Mandanda       1\n",
              " Coman          1\n",
              " Kolo Muani     1\n",
              " Guendouzi      1\n",
              " Disasi         1\n",
              " Veretout       1\n",
              "dtype: int32"
            ]
          },
          "execution_count": 21,
          "metadata": {},
          "output_type": "execute_result"
        }
      ],
      "source": [
        "def get_times_to_field(data, country_name, match= 'both'):\n",
        "    # '''\n",
        "    # The `get_times_to_field` function is designed to calculate the number of times a player from a specific country has entered the field in a given dataset\n",
        "    # '''\n",
        "    if match == 'both':\n",
        "        match = ['home', 'away']\n",
        "    else:\n",
        "        match = [match]\n",
        "\n",
        "    # Filter the data for the specific country and match type\n",
        "    times_to_field = pd.Series()\n",
        "    for turn in match:\n",
        "        # Filter the data for the specific country and match type\n",
        "        filtered_data = data[data['team_name_'+ turn].eq(country_name)]\n",
        "\n",
        "        # Apply eval to the 'lineup_home' column and explode the resulting Series\n",
        "        exploded_data = filtered_data['lineup_'+ turn].apply(eval).explode('lineup_'+ turn)\n",
        "        # Extract the 'player_name' values and count their occurrences\n",
        "\n",
        "        player_counts = exploded_data.str.get('player_name').value_counts()\n",
        "\n",
        "        # Add the counts to the 'times_to_field' Series\n",
        "        times_to_field = times_to_field.add(player_counts, fill_value=0).astype(int)\n",
        "    return times_to_field\n",
        "\n",
        "france = get_times_to_field(df_matches, 'France', match='both').sort_values(ascending=False)\n",
        "france"
      ]
    },
    {
      "cell_type": "code",
      "execution_count": 22,
      "metadata": {
        "colab": {
          "base_uri": "https://localhost:8080/",
          "height": 688
        },
        "id": "zb_jXFK6shzK",
        "outputId": "109cde26-a93d-4a19-f008-3517ae0a02e3"
      },
      "outputs": [
        {
          "data": {
            "text/plain": [
              "Text(0.5, 0.98, 'France players')"
            ]
          },
          "execution_count": 22,
          "metadata": {},
          "output_type": "execute_result"
        },
        {
          "data": {
            "image/png": "[encoded data removed]",
            "text/plain": [
              "<Figure size 1200x600 with 2 Axes>"
            ]
          },
          "metadata": {},
          "output_type": "display_data"
        }
      ],
      "source": [
        "fig, ax = plt.subplots(1,2, figsize=(12, 6))\n",
        "\n",
        "# bar chart\n",
        "france.plot(kind='bar', ax=ax[0])\n",
        "ax[0].set_title('bar chart')\n",
        "ax[0].set_xlabel('Player name')\n",
        "ax[0].set_ylabel('Number of appearances')\n",
        "\n",
        "# Pie chart\n",
        "france.plot(kind='pie', ax=ax[1], autopct='%1.1f%%')\n",
        "ax[1].set_title('pie chart')\n",
        "\n",
        "fig.suptitle('France players', fontsize=16)"
      ]
    },
    {
      "cell_type": "markdown",
      "metadata": {
        "id": "uPnOdGBjx6C9"
      },
      "source": [
        "## Thống kê danh sách top 10 vua phá lưới của giải đấu\n",
        "- Nếu trường hợp hai cầu thủ có cùng số bàn thắng thì chọn cầu thủ có số lượng kiến tạo nhiều hơn\n",
        "- Sử dụng biểu đồ thích hợp để hiển thị số bàn thắng của top 10"
      ]
    },
    {
      "cell_type": "code",
      "execution_count": 23,
      "metadata": {
        "colab": {
          "base_uri": "https://localhost:8080/",
          "height": 363
        },
        "id": "yj6GXKfzxetv",
        "outputId": "f412c64b-bcc3-4c71-b030-80f7f9d3646e"
      },
      "outputs": [
        {
          "data": {
            "text/html": [
              "<div>\n",
              "<style scoped>\n",
              "    .dataframe tbody tr th:only-of-type {\n",
              "        vertical-align: middle;\n",
              "    }\n",
              "\n",
              "    .dataframe tbody tr th {\n",
              "        vertical-align: top;\n",
              "    }\n",
              "\n",
              "    .dataframe thead th {\n",
              "        text-align: right;\n",
              "    }\n",
              "</style>\n",
              "<table border=\"1\" class=\"dataframe\">\n",
              "  <thead>\n",
              "    <tr style=\"text-align: right;\">\n",
              "      <th></th>\n",
              "      <th>0</th>\n",
              "      <th>1</th>\n",
              "    </tr>\n",
              "  </thead>\n",
              "  <tbody>\n",
              "    <tr>\n",
              "      <th>Kylian Mbappé</th>\n",
              "      <td>8.0</td>\n",
              "      <td>2.0</td>\n",
              "    </tr>\n",
              "    <tr>\n",
              "      <th>Lionel Messi</th>\n",
              "      <td>7.0</td>\n",
              "      <td>3.0</td>\n",
              "    </tr>\n",
              "    <tr>\n",
              "      <th>Julián Álvarez</th>\n",
              "      <td>4.0</td>\n",
              "      <td>NaN</td>\n",
              "    </tr>\n",
              "    <tr>\n",
              "      <th>Olivier Giroud</th>\n",
              "      <td>4.0</td>\n",
              "      <td>NaN</td>\n",
              "    </tr>\n",
              "    <tr>\n",
              "      <th>Gonçalo Ramos</th>\n",
              "      <td>3.0</td>\n",
              "      <td>1.0</td>\n",
              "    </tr>\n",
              "    <tr>\n",
              "      <th>Álvaro Morata</th>\n",
              "      <td>3.0</td>\n",
              "      <td>1.0</td>\n",
              "    </tr>\n",
              "    <tr>\n",
              "      <th>Richarlison</th>\n",
              "      <td>3.0</td>\n",
              "      <td>NaN</td>\n",
              "    </tr>\n",
              "    <tr>\n",
              "      <th>Bukayo Saka</th>\n",
              "      <td>3.0</td>\n",
              "      <td>NaN</td>\n",
              "    </tr>\n",
              "    <tr>\n",
              "      <th>Cody Gakpo</th>\n",
              "      <td>3.0</td>\n",
              "      <td>NaN</td>\n",
              "    </tr>\n",
              "    <tr>\n",
              "      <th>Marcus Rashford</th>\n",
              "      <td>3.0</td>\n",
              "      <td>NaN</td>\n",
              "    </tr>\n",
              "  </tbody>\n",
              "</table>\n",
              "</div>"
            ],
            "text/plain": [
              "                   0    1\n",
              "Kylian Mbappé    8.0  2.0\n",
              "Lionel Messi     7.0  3.0\n",
              "Julián Álvarez   4.0  NaN\n",
              "Olivier Giroud   4.0  NaN\n",
              "Gonçalo Ramos    3.0  1.0\n",
              "Álvaro Morata    3.0  1.0\n",
              "Richarlison      3.0  NaN\n",
              "Bukayo Saka      3.0  NaN\n",
              "Cody Gakpo       3.0  NaN\n",
              "Marcus Rashford  3.0  NaN"
            ]
          },
          "execution_count": 23,
          "metadata": {},
          "output_type": "execute_result"
        }
      ],
      "source": [
        "goals, assits = get_goals_scored(df_events, get_assits_scored=True)\n",
        "top_10 = pd.concat([goals, assits], axis=1).sort_values(by=[0,1], ascending=False).head(10)\n",
        "top_10"
      ]
    },
    {
      "cell_type": "code",
      "execution_count": 33,
      "metadata": {
        "colab": {
          "base_uri": "https://localhost:8080/",
          "height": 542
        },
        "id": "n3eaRDFYHyxW",
        "outputId": "b807d2af-48ff-41f4-a4f6-6fa32f0366b9"
      },
      "outputs": [
        {
          "data": {
            "application/vnd.plotly.v1+json": {
              "config": {
                "plotlyServerURL": "https://plot.ly"
              },
              "data": [
                {
                  "marker": {
                    "color": "rgb(158,202,225)",
                    "line": {
                      "color": "rgb(8,48,107)",
                      "width": 1.5
                    }
                  },
                  "opacity": 0.8,
                  "type": "bar",
                  "x": [
                    "Kylian Mbappé",
                    "Lionel Messi",
                    "Julián Álvarez",
                    "Olivier Giroud",
                    "Gonçalo Ramos",
                    "Álvaro Morata",
                    "Richarlison",
                    "Bukayo Saka",
                    "Cody Gakpo",
                    "Marcus Rashford"
                  ],
                  "y": [
                    8,
                    7,
                    4,
                    4,
                    3,
                    3,
                    3,
                    3,
                    3,
                    3
                  ]
                }
              ],
              "layout": {
                "bargap": 0.2,
                "plot_bgcolor": "white",
                "template": {
                  "data": {
                    "bar": [
                      {
                        "error_x": {
                          "color": "#2a3f5f"
                        },
                        "error_y": {
                          "color": "#2a3f5f"
                        },
                        "marker": {
                          "line": {
                            "color": "#E5ECF6",
                            "width": 0.5
                          },
                          "pattern": {
                            "fillmode": "overlay",
                            "size": 10,
                            "solidity": 0.2
                          }
                        },
                        "type": "bar"
                      }
                    ],
                    "barpolar": [
                      {
                        "marker": {
                          "line": {
                            "color": "#E5ECF6",
                            "width": 0.5
                          },
                          "pattern": {
                            "fillmode": "overlay",
                            "size": 10,
                            "solidity": 0.2
                          }
                        },
                        "type": "barpolar"
                      }
                    ],
                    "carpet": [
                      {
                        "aaxis": {
                          "endlinecolor": "#2a3f5f",
                          "gridcolor": "white",
                          "linecolor": "white",
                          "minorgridcolor": "white",
                          "startlinecolor": "#2a3f5f"
                        },
                        "baxis": {
                          "endlinecolor": "#2a3f5f",
                          "gridcolor": "white",
                          "linecolor": "white",
                          "minorgridcolor": "white",
                          "startlinecolor": "#2a3f5f"
                        },
                        "type": "carpet"
                      }
                    ],
                    "choropleth": [
                      {
                        "colorbar": {
                          "outlinewidth": 0,
                          "ticks": ""
                        },
                        "type": "choropleth"
                      }
                    ],
                    "contour": [
                      {
                        "colorbar": {
                          "outlinewidth": 0,
                          "ticks": ""
                        },
                        "colorscale": [
                          [
                            0,
                            "#0d0887"
                          ],
                          [
                            0.1111111111111111,
                            "#46039f"
                          ],
                          [
                            0.2222222222222222,
                            "#7201a8"
                          ],
                          [
                            0.3333333333333333,
                            "#9c179e"
                          ],
                          [
                            0.4444444444444444,
                            "#bd3786"
                          ],
                          [
                            0.5555555555555556,
                            "#d8576b"
                          ],
                          [
                            0.6666666666666666,
                            "#ed7953"
                          ],
                          [
                            0.7777777777777778,
                            "#fb9f3a"
                          ],
                          [
                            0.8888888888888888,
                            "#fdca26"
                          ],
                          [
                            1,
                            "#f0f921"
                          ]
                        ],
                        "type": "contour"
                      }
                    ],
                    "contourcarpet": [
                      {
                        "colorbar": {
                          "outlinewidth": 0,
                          "ticks": ""
                        },
                        "type": "contourcarpet"
                      }
                    ],
                    "heatmap": [
                      {
                        "colorbar": {
                          "outlinewidth": 0,
                          "ticks": ""
                        },
                        "colorscale": [
                          [
                            0,
                            "#0d0887"
                          ],
                          [
                            0.1111111111111111,
                            "#46039f"
                          ],
                          [
                            0.2222222222222222,
                            "#7201a8"
                          ],
                          [
                            0.3333333333333333,
                            "#9c179e"
                          ],
                          [
                            0.4444444444444444,
                            "#bd3786"
                          ],
                          [
                            0.5555555555555556,
                            "#d8576b"
                          ],
                          [
                            0.6666666666666666,
                            "#ed7953"
                          ],
                          [
                            0.7777777777777778,
                            "#fb9f3a"
                          ],
                          [
                            0.8888888888888888,
                            "#fdca26"
                          ],
                          [
                            1,
                            "#f0f921"
                          ]
                        ],
                        "type": "heatmap"
                      }
                    ],
                    "heatmapgl": [
                      {
                        "colorbar": {
                          "outlinewidth": 0,
                          "ticks": ""
                        },
                        "colorscale": [
                          [
                            0,
                            "#0d0887"
                          ],
                          [
                            0.1111111111111111,
                            "#46039f"
                          ],
                          [
                            0.2222222222222222,
                            "#7201a8"
                          ],
                          [
                            0.3333333333333333,
                            "#9c179e"
                          ],
                          [
                            0.4444444444444444,
                            "#bd3786"
                          ],
                          [
                            0.5555555555555556,
                            "#d8576b"
                          ],
                          [
                            0.6666666666666666,
                            "#ed7953"
                          ],
                          [
                            0.7777777777777778,
                            "#fb9f3a"
                          ],
                          [
                            0.8888888888888888,
                            "#fdca26"
                          ],
                          [
                            1,
                            "#f0f921"
                          ]
                        ],
                        "type": "heatmapgl"
                      }
                    ],
                    "histogram": [
                      {
                        "marker": {
                          "pattern": {
                            "fillmode": "overlay",
                            "size": 10,
                            "solidity": 0.2
                          }
                        },
                        "type": "histogram"
                      }
                    ],
                    "histogram2d": [
                      {
                        "colorbar": {
                          "outlinewidth": 0,
                          "ticks": ""
                        },
                        "colorscale": [
                          [
                            0,
                            "#0d0887"
                          ],
                          [
                            0.1111111111111111,
                            "#46039f"
                          ],
                          [
                            0.2222222222222222,
                            "#7201a8"
                          ],
                          [
                            0.3333333333333333,
                            "#9c179e"
                          ],
                          [
                            0.4444444444444444,
                            "#bd3786"
                          ],
                          [
                            0.5555555555555556,
                            "#d8576b"
                          ],
                          [
                            0.6666666666666666,
                            "#ed7953"
                          ],
                          [
                            0.7777777777777778,
                            "#fb9f3a"
                          ],
                          [
                            0.8888888888888888,
                            "#fdca26"
                          ],
                          [
                            1,
                            "#f0f921"
                          ]
                        ],
                        "type": "histogram2d"
                      }
                    ],
                    "histogram2dcontour": [
                      {
                        "colorbar": {
                          "outlinewidth": 0,
                          "ticks": ""
                        },
                        "colorscale": [
                          [
                            0,
                            "#0d0887"
                          ],
                          [
                            0.1111111111111111,
                            "#46039f"
                          ],
                          [
                            0.2222222222222222,
                            "#7201a8"
                          ],
                          [
                            0.3333333333333333,
                            "#9c179e"
                          ],
                          [
                            0.4444444444444444,
                            "#bd3786"
                          ],
                          [
                            0.5555555555555556,
                            "#d8576b"
                          ],
                          [
                            0.6666666666666666,
                            "#ed7953"
                          ],
                          [
                            0.7777777777777778,
                            "#fb9f3a"
                          ],
                          [
                            0.8888888888888888,
                            "#fdca26"
                          ],
                          [
                            1,
                            "#f0f921"
                          ]
                        ],
                        "type": "histogram2dcontour"
                      }
                    ],
                    "mesh3d": [
                      {
                        "colorbar": {
                          "outlinewidth": 0,
                          "ticks": ""
                        },
                        "type": "mesh3d"
                      }
                    ],
                    "parcoords": [
                      {
                        "line": {
                          "colorbar": {
                            "outlinewidth": 0,
                            "ticks": ""
                          }
                        },
                        "type": "parcoords"
                      }
                    ],
                    "pie": [
                      {
                        "automargin": true,
                        "type": "pie"
                      }
                    ],
                    "scatter": [
                      {
                        "fillpattern": {
                          "fillmode": "overlay",
                          "size": 10,
                          "solidity": 0.2
                        },
                        "type": "scatter"
                      }
                    ],
                    "scatter3d": [
                      {
                        "line": {
                          "colorbar": {
                            "outlinewidth": 0,
                            "ticks": ""
                          }
                        },
                        "marker": {
                          "colorbar": {
                            "outlinewidth": 0,
                            "ticks": ""
                          }
                        },
                        "type": "scatter3d"
                      }
                    ],
                    "scattercarpet": [
                      {
                        "marker": {
                          "colorbar": {
                            "outlinewidth": 0,
                            "ticks": ""
                          }
                        },
                        "type": "scattercarpet"
                      }
                    ],
                    "scattergeo": [
                      {
                        "marker": {
                          "colorbar": {
                            "outlinewidth": 0,
                            "ticks": ""
                          }
                        },
                        "type": "scattergeo"
                      }
                    ],
                    "scattergl": [
                      {
                        "marker": {
                          "colorbar": {
                            "outlinewidth": 0,
                            "ticks": ""
                          }
                        },
                        "type": "scattergl"
                      }
                    ],
                    "scattermapbox": [
                      {
                        "marker": {
                          "colorbar": {
                            "outlinewidth": 0,
                            "ticks": ""
                          }
                        },
                        "type": "scattermapbox"
                      }
                    ],
                    "scatterpolar": [
                      {
                        "marker": {
                          "colorbar": {
                            "outlinewidth": 0,
                            "ticks": ""
                          }
                        },
                        "type": "scatterpolar"
                      }
                    ],
                    "scatterpolargl": [
                      {
                        "marker": {
                          "colorbar": {
                            "outlinewidth": 0,
                            "ticks": ""
                          }
                        },
                        "type": "scatterpolargl"
                      }
                    ],
                    "scatterternary": [
                      {
                        "marker": {
                          "colorbar": {
                            "outlinewidth": 0,
                            "ticks": ""
                          }
                        },
                        "type": "scatterternary"
                      }
                    ],
                    "surface": [
                      {
                        "colorbar": {
                          "outlinewidth": 0,
                          "ticks": ""
                        },
                        "colorscale": [
                          [
                            0,
                            "#0d0887"
                          ],
                          [
                            0.1111111111111111,
                            "#46039f"
                          ],
                          [
                            0.2222222222222222,
                            "#7201a8"
                          ],
                          [
                            0.3333333333333333,
                            "#9c179e"
                          ],
                          [
                            0.4444444444444444,
                            "#bd3786"
                          ],
                          [
                            0.5555555555555556,
                            "#d8576b"
                          ],
                          [
                            0.6666666666666666,
                            "#ed7953"
                          ],
                          [
                            0.7777777777777778,
                            "#fb9f3a"
                          ],
                          [
                            0.8888888888888888,
                            "#fdca26"
                          ],
                          [
                            1,
                            "#f0f921"
                          ]
                        ],
                        "type": "surface"
                      }
                    ],
                    "table": [
                      {
                        "cells": {
                          "fill": {
                            "color": "#EBF0F8"
                          },
                          "line": {
                            "color": "white"
                          }
                        },
                        "header": {
                          "fill": {
                            "color": "#C8D4E3"
                          },
                          "line": {
                            "color": "white"
                          }
                        },
                        "type": "table"
                      }
                    ]
                  },
                  "layout": {
                    "annotationdefaults": {
                      "arrowcolor": "#2a3f5f",
                      "arrowhead": 0,
                      "arrowwidth": 1
                    },
                    "autotypenumbers": "strict",
                    "coloraxis": {
                      "colorbar": {
                        "outlinewidth": 0,
                        "ticks": ""
                      }
                    },
                    "colorscale": {
                      "diverging": [
                        [
                          0,
                          "#8e0152"
                        ],
                        [
                          0.1,
                          "#c51b7d"
                        ],
                        [
                          0.2,
                          "#de77ae"
                        ],
                        [
                          0.3,
                          "#f1b6da"
                        ],
                        [
                          0.4,
                          "#fde0ef"
                        ],
                        [
                          0.5,
                          "#f7f7f7"
                        ],
                        [
                          0.6,
                          "#e6f5d0"
                        ],
                        [
                          0.7,
                          "#b8e186"
                        ],
                        [
                          0.8,
                          "#7fbc41"
                        ],
                        [
                          0.9,
                          "#4d9221"
                        ],
                        [
                          1,
                          "#276419"
                        ]
                      ],
                      "sequential": [
                        [
                          0,
                          "#0d0887"
                        ],
                        [
                          0.1111111111111111,
                          "#46039f"
                        ],
                        [
                          0.2222222222222222,
                          "#7201a8"
                        ],
                        [
                          0.3333333333333333,
                          "#9c179e"
                        ],
                        [
                          0.4444444444444444,
                          "#bd3786"
                        ],
                        [
                          0.5555555555555556,
                          "#d8576b"
                        ],
                        [
                          0.6666666666666666,
                          "#ed7953"
                        ],
                        [
                          0.7777777777777778,
                          "#fb9f3a"
                        ],
                        [
                          0.8888888888888888,
                          "#fdca26"
                        ],
                        [
                          1,
                          "#f0f921"
                        ]
                      ],
                      "sequentialminus": [
                        [
                          0,
                          "#0d0887"
                        ],
                        [
                          0.1111111111111111,
                          "#46039f"
                        ],
                        [
                          0.2222222222222222,
                          "#7201a8"
                        ],
                        [
                          0.3333333333333333,
                          "#9c179e"
                        ],
                        [
                          0.4444444444444444,
                          "#bd3786"
                        ],
                        [
                          0.5555555555555556,
                          "#d8576b"
                        ],
                        [
                          0.6666666666666666,
                          "#ed7953"
                        ],
                        [
                          0.7777777777777778,
                          "#fb9f3a"
                        ],
                        [
                          0.8888888888888888,
                          "#fdca26"
                        ],
                        [
                          1,
                          "#f0f921"
                        ]
                      ]
                    },
                    "colorway": [
                      "#636efa",
                      "#EF553B",
                      "#00cc96",
                      "#ab63fa",
                      "#FFA15A",
                      "#19d3f3",
                      "#FF6692",
                      "#B6E880",
                      "#FF97FF",
                      "#FECB52"
                    ],
                    "font": {
                      "color": "#2a3f5f"
                    },
                    "geo": {
                      "bgcolor": "white",
                      "lakecolor": "white",
                      "landcolor": "#E5ECF6",
                      "showlakes": true,
                      "showland": true,
                      "subunitcolor": "white"
                    },
                    "hoverlabel": {
                      "align": "left"
                    },
                    "hovermode": "closest",
                    "mapbox": {
                      "style": "light"
                    },
                    "paper_bgcolor": "white",
                    "plot_bgcolor": "#E5ECF6",
                    "polar": {
                      "angularaxis": {
                        "gridcolor": "white",
                        "linecolor": "white",
                        "ticks": ""
                      },
                      "bgcolor": "#E5ECF6",
                      "radialaxis": {
                        "gridcolor": "white",
                        "linecolor": "white",
                        "ticks": ""
                      }
                    },
                    "scene": {
                      "xaxis": {
                        "backgroundcolor": "#E5ECF6",
                        "gridcolor": "white",
                        "gridwidth": 2,
                        "linecolor": "white",
                        "showbackground": true,
                        "ticks": "",
                        "zerolinecolor": "white"
                      },
                      "yaxis": {
                        "backgroundcolor": "#E5ECF6",
                        "gridcolor": "white",
                        "gridwidth": 2,
                        "linecolor": "white",
                        "showbackground": true,
                        "ticks": "",
                        "zerolinecolor": "white"
                      },
                      "zaxis": {
                        "backgroundcolor": "#E5ECF6",
                        "gridcolor": "white",
                        "gridwidth": 2,
                        "linecolor": "white",
                        "showbackground": true,
                        "ticks": "",
                        "zerolinecolor": "white"
                      }
                    },
                    "shapedefaults": {
                      "line": {
                        "color": "#2a3f5f"
                      }
                    },
                    "ternary": {
                      "aaxis": {
                        "gridcolor": "white",
                        "linecolor": "white",
                        "ticks": ""
                      },
                      "baxis": {
                        "gridcolor": "white",
                        "linecolor": "white",
                        "ticks": ""
                      },
                      "bgcolor": "#E5ECF6",
                      "caxis": {
                        "gridcolor": "white",
                        "linecolor": "white",
                        "ticks": ""
                      }
                    },
                    "title": {
                      "x": 0.05
                    },
                    "xaxis": {
                      "automargin": true,
                      "gridcolor": "white",
                      "linecolor": "white",
                      "ticks": "",
                      "title": {
                        "standoff": 15
                      },
                      "zerolinecolor": "white",
                      "zerolinewidth": 2
                    },
                    "yaxis": {
                      "automargin": true,
                      "gridcolor": "white",
                      "linecolor": "white",
                      "ticks": "",
                      "title": {
                        "standoff": 15
                      },
                      "zerolinecolor": "white",
                      "zerolinewidth": 2
                    }
                  }
                },
                "title": {
                  "text": "Top 10 players with the most goals scored"
                },
                "xaxis": {
                  "showgrid": false,
                  "tickangle": -45,
                  "tickfont": {
                    "size": 12
                  },
                  "title": {
                    "text": "Player name"
                  },
                  "zeroline": false
                },
                "yaxis": {
                  "gridcolor": "lightgray",
                  "showgrid": true,
                  "tickfont": {
                    "size": 12
                  },
                  "title": {
                    "text": "Number of goals"
                  },
                  "zeroline": false
                }
              }
            }
          },
          "metadata": {},
          "output_type": "display_data"
        }
      ],
      "source": [
        "fig = go.Figure(data=[go.Bar(x=top_10.index, y=top_10[0])])\n",
        "\n",
        "# Customize the layout\n",
        "fig.update_layout(\n",
        "    title='Top 10 players with the most goals scored',\n",
        "    xaxis=dict(\n",
        "        title='Player name',\n",
        "        tickangle=-45,\n",
        "        showgrid=False,\n",
        "        zeroline=False,\n",
        "        tickfont=dict(size=12)\n",
        "    ),\n",
        "    yaxis=dict(\n",
        "        title='Number of goals',\n",
        "        showgrid=True,\n",
        "        gridcolor='lightgray',\n",
        "        zeroline=False,\n",
        "        tickfont=dict(size=12)\n",
        "    ),\n",
        "    plot_bgcolor='white',\n",
        "    bargap=0.2\n",
        ")\n",
        "\n",
        "# Customize the appearance of the bars\n",
        "fig.update_traces(marker_color='rgb(158,202,225)', marker_line_color='rgb(8,48,107)',\n",
        "                  marker_line_width=1.5, opacity=0.8)\n",
        "pio.write_image(fig, r'assets/most_players.png')\n",
        "fig.show()"
      ]
    },
    {
      "cell_type": "markdown",
      "metadata": {
        "id": "DINXtSC37Vyb"
      },
      "source": [
        "# OpenCV"
      ]
    },
    {
      "cell_type": "markdown",
      "metadata": {
        "id": "O4IWMBszI00S"
      },
      "source": [
        "## Tìm bounding box cho các chữ số trong bức ảnh sau: [ảnh](https://1.bp.blogspot.com/-fGR7t6RnXZs/Uv5kdmT89_I/AAAAAAAAAjg/zZHfaCqnkak/s1600/freeDrawExport_012314055352.png)\n",
        "\n",
        "- Gợi ý các hàm sử dụng:\n",
        "  - cv2.threshold\n",
        "  - cv2.findContours\n",
        "  - cv2.contourArea\n",
        "  - cv2.boundingRect\n",
        "\n",
        "Và các hàm trong thư viện OpenCV đã học hôm trước"
      ]
    },
    {
      "cell_type": "code",
      "execution_count": 25,
      "metadata": {
        "colab": {
          "base_uri": "https://localhost:8080/"
        },
        "id": "xVG_1-p0NCtU",
        "outputId": "3bc0d23b-87f8-49e2-ce6a-7fe6e2de09e5"
      },
      "outputs": [
        {
          "name": "stderr",
          "output_type": "stream",
          "text": [
            "'wget' is not recognized as an internal or external command,\n",
            "operable program or batch file.\n"
          ]
        }
      ],
      "source": [
        "# !wget -O picture.png https://1.bp.blogspot.com/-fGR7t6RnXZs/Uv5kdmT89_I/AAAAAAAAAjg/zZHfaCqnkak/s1600/freeDrawExport_012314055352.png"
      ]
    },
    {
      "cell_type": "code",
      "execution_count": 37,
      "metadata": {
        "colab": {
          "base_uri": "https://localhost:8080/"
        },
        "id": "SX_1jq9hI0ST",
        "outputId": "f01707c8-81aa-40f7-9455-3b3eb161b8ec"
      },
      "outputs": [
        {
          "data": {
            "text/plain": [
              "True"
            ]
          },
          "execution_count": 37,
          "metadata": {},
          "output_type": "execute_result"
        }
      ],
      "source": [
        "import cv2\n",
        "\n",
        "# img = cv2.imread(\"/content/picture.png\") ## For Colab\n",
        "img = cv2.imread(r\"assets\\picture.png\")\n",
        "\n",
        "gray = cv2.cvtColor(img, cv2.COLOR_BGR2GRAY)\n",
        "\n",
        "ret, thresh = cv2.threshold(gray, 127, 255, cv2.THRESH_BINARY)\n",
        "\n",
        "contours, _ = cv2.findContours(thresh,cv2.RETR_TREE,cv2.CHAIN_APPROX_SIMPLE)\n",
        "\n",
        "for contour in contours:\n",
        "    x,y,w,h = cv2.boundingRect(contour)\n",
        "    img = cv2.drawContours(img, [contour], 0, (0, 255, 255), 2)\n",
        "    img = cv2.rectangle(img, (x,y),(x+w,y+h), (0,255,0),2)\n",
        "\n",
        "cv2.imwrite(\"assets/Bounding_img.png\", img)"
      ]
    },
    {
      "cell_type": "markdown",
      "metadata": {
        "id": "xAgVjAuXGgC-"
      },
      "source": [
        "Thực hiện vẽ logo của CLB Tin Học HIT bằng OpenCV: [Vẽ logo](https://docs.google.com/document/d/1Wfg10lmyVPzGpCa6BWcMd3fpjYD3OGohoyjzy_JfcWc/edit?usp=sharing)"
      ]
    },
    {
      "cell_type": "code",
      "execution_count": 35,
      "metadata": {
        "id": "HK76jYc97U7q"
      },
      "outputs": [],
      "source": [
        "import cv2\n",
        "import numpy as np\n",
        "\n",
        "'''\n",
        "                WORK FLOW\n",
        "First, we create a new RGB image with a black background.\n",
        "Then, we draw a circle in the center of the image.\n",
        "Next, we draw the text in the center of the image.\n",
        "Finally, we rotate the image by 90 degrees and put the text in the center of the image.\n",
        "\n",
        "! Rotate the Side first\n",
        "'''\n",
        "\n",
        "# Colors\n",
        "default_color = (37, 108, 240)\n",
        "WHITE_COLOR = (255, 255, 255)\n",
        "\n",
        "# Define the text and font\n",
        "font = cv2.FONT_HERSHEY_SIMPLEX\n",
        "\n",
        "# Create a new RGB image\n",
        "height = 430\n",
        "width = 350\n",
        "img = np.zeros((height, width, 3), dtype=np.uint8)\n",
        "\n",
        "# Circle\n",
        "center = (width//2, height//2)\n",
        "radius = 136\n",
        "thickness_c = 3\n",
        "cv2.circle(img, center, radius, default_color, thickness_c)\n",
        "cv2.circle(img, center, radius - thickness_c, WHITE_COLOR, cv2.FILLED)\n",
        "\n",
        "# sidetext\n",
        "side_text = 'club'\n",
        "font_scale = 1\n",
        "thickness = 4\n",
        "text_size, _ = cv2.getTextSize(side_text, font, font_scale, thickness)\n",
        "text_x = center[0] - int(text_size[0] / 2)\n",
        "text_y = center[1] + int(text_size[1] / 2) +68\n",
        "cv2.putText(img, side_text, (text_x, text_y), font, font_scale, default_color, thickness)\n",
        "M = cv2.getRotationMatrix2D((width/2, height/2), 90, 1)\n",
        "rotated_img = cv2.warpAffine(img, M, (width, height))\n",
        "alpha = 0\n",
        "blended_img = cv2.addWeighted(img, alpha, rotated_img, 1-alpha, 0)\n",
        "\n",
        "# Main text\n",
        "text = 'HIT'\n",
        "font_scale = 3.5\n",
        "thickness = 10\n",
        "text_size, _ = cv2.getTextSize(text, font, font_scale, thickness)\n",
        "text_x = center[0] - int(text_size[0] / 2)\n",
        "text_y = center[1] + int(text_size[1] / 2)\n",
        "cv2.putText(blended_img, text, (text_x, text_y), font, font_scale, default_color, thickness)\n",
        "\n",
        "# subtext\n",
        "bottom_text = \"CLB TIN HOC DH CNHN\"\n",
        "font_scale = .5\n",
        "thickness = 2\n",
        "text_size, _ = cv2.getTextSize(bottom_text, font, font_scale, thickness)\n",
        "text_x = center[0] - int(text_size[0] / 2)\n",
        "text_y = center[1] + int(text_size[1] / 2) + 68\n",
        "cv2.putText(blended_img, bottom_text, (text_x, text_y), font, font_scale, default_color, thickness)\n",
        "\n",
        "# headtext\n",
        "head_text = \"<3\"\n",
        "font_scale = .5\n",
        "thickness = 4\n",
        "text_size, _ = cv2.getTextSize(head_text, font, font_scale, thickness)\n",
        "text_x = center[0] - int(text_size[0] / 2)\n",
        "text_y = center[1] + int(text_size[1] / 2) - 58\n",
        "cv2.putText(blended_img, head_text, (text_x, text_y), font, font_scale, default_color, thickness)\n",
        "\n",
        "# cv2.imshow('logo', blended_img)\n",
        "# cv2.waitKey(0)\n",
        "cv2.imwrite('logo.png', blended_img)\n",
        "\n",
        "'''\n",
        "New\n",
        "    * how to blend two image\n",
        "    * how to rotate image: 2 ways: using cv2.getRotationMatrix2D() and cv2.warpAffine() or cv2.rotate()\n",
        "    * how to align the text in the center of the image\n",
        "    * how to get the size of the text\n",
        "''';"
      ]
    },
    {
      "cell_type": "markdown",
      "metadata": {
        "id": "DqdlU8_iZoof"
      },
      "source": [
        "Thực hiện các yêu cầu sau đối với ảnh logo mà bạn vừa vẽ:\n",
        "- Làm mịn ảnh\n",
        "- Làm mờ ảnh\n",
        "\n",
        "Sử dụng các hàm gợi ý sau:\n",
        "- cv2.filter2D\n",
        "- cv2.blur\n",
        "- cv2.GaussianBlur\n",
        "- cv2.medianBlur\n",
        "- cv2.bilateralFilter"
      ]
    },
    {
      "cell_type": "code",
      "execution_count": 36,
      "metadata": {
        "colab": {
          "base_uri": "https://localhost:8080/"
        },
        "id": "OzCWehx5ZnIK",
        "outputId": "4b782e0e-5eae-4651-9a1d-04a33de55769"
      },
      "outputs": [
        {
          "data": {
            "text/plain": [
              "Ellipsis"
            ]
          },
          "execution_count": 36,
          "metadata": {},
          "output_type": "execute_result"
        }
      ],
      "source": [
        "..."
      ]
    },
    {
      "cell_type": "markdown",
      "metadata": {
        "id": "6KzDzyonuuFe"
      },
      "source": []
    }
  ],
  "metadata": {
    "colab": {
      "gpuType": "T4",
      "provenance": []
    },
    "kernelspec": {
      "display_name": "Python 3",
      "name": "python3"
    },
    "language_info": {
      "codemirror_mode": {
        "name": "ipython",
        "version": 3
      },
      "file_extension": ".py",
      "mimetype": "text/x-python",
      "name": "python",
      "nbconvert_exporter": "python",
      "pygments_lexer": "ipython3",
      "version": "3.11.5"
    }
  },
  "nbformat": 4,
  "nbformat_minor": 0
}
