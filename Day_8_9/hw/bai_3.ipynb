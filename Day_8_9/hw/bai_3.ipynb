{
 "cells": [
  {
   "cell_type": "markdown",
   "metadata": {},
   "source": [
    "# Quản lý điểm với Numpy"
   ]
  },
  {
   "cell_type": "code",
   "execution_count": 1,
   "metadata": {},
   "outputs": [],
   "source": [
    "import numpy as np"
   ]
  },
  {
   "cell_type": "code",
   "execution_count": 2,
   "metadata": {},
   "outputs": [
    {
     "data": {
      "text/plain": [
       "array([[ 1,  3,  4, 10,  8, 10,  2,  0,  5,  0,  5,  1,  3,  1,  5,  8,\n",
       "         5,  5,  6,  4],\n",
       "       [10,  4,  2,  7,  1,  4,  1,  3,  0,  9,  4,  0,  9,  6,  8,  9,\n",
       "         9, 10,  9,  1],\n",
       "       [ 5,  5,  2,  7,  4,  1,  6,  3,  2,  5,  3, 10, 10,  4, 10,  5,\n",
       "        10,  3, 10,  1]])"
      ]
     },
     "metadata": {},
     "output_type": "display_data"
    }
   ],
   "source": [
    "# Lập 1 mảng 2 chiều lưu lần lượt điểm đại số tuyến tính, \n",
    "# xác suất thống kê, giải tích với 20 phần tử mỗi hàng random trong khoảng từ [0, 10].\n",
    "\n",
    "scores = np.random.randint(0, 11, (3, 20))\n",
    "display(scores)"
   ]
  },
  {
   "cell_type": "code",
   "execution_count": 3,
   "metadata": {},
   "outputs": [
    {
     "name": "stdout",
     "output_type": "stream",
     "text": [
      "Mon hoc  1\n",
      "Diem thap nhat:  0\n",
      "Diem cao nhat:  10\n",
      "\n",
      "Mon hoc  2\n",
      "Diem thap nhat:  0\n",
      "Diem cao nhat:  10\n",
      "\n",
      "Mon hoc  3\n",
      "Diem thap nhat:  1\n",
      "Diem cao nhat:  10\n",
      "\n"
     ]
    }
   ],
   "source": [
    "# In ra giá vị trí điểm lớn nhất và nhỏ nhất ở mỗi môn.\n",
    "# max_scores = np.max(scores, axis=1)\n",
    "# min_scores = np.min(scores, axis=1)\n",
    "\n",
    "# display(\"Maximum scores in each subject:\", max_scores)\n",
    "# display(\"Minimum scores in each subject:\", min_scores)\n",
    "\n",
    "for index, subject in enumerate(scores):\n",
    "    print(\"Mon hoc \", index + 1)\n",
    "    print(\"Diem thap nhat: \", np.min(subject))\n",
    "    print(\"Diem cao nhat: \", np.max(subject))\n",
    "    print()"
   ]
  },
  {
   "cell_type": "code",
   "execution_count": 4,
   "metadata": {},
   "outputs": [
    {
     "data": {
      "text/plain": [
       "array([ 1,  3,  4, 10,  8, 10,  2,  5,  5,  1,  3,  1,  5,  8,  5,  5,  6,\n",
       "        4, 10,  4,  2,  7,  1,  4,  1,  3,  9,  4,  9,  6,  8,  9,  9, 10,\n",
       "        9,  1,  5,  5,  2,  7,  4,  1,  6,  3,  2,  5,  3, 10, 10,  4, 10,\n",
       "        5, 10,  3, 10,  1])"
      ]
     },
     "metadata": {},
     "output_type": "display_data"
    }
   ],
   "source": [
    "# Làm phẳng mảng và xóa đi các vị trí có điểm là 0, in ra màn hình.\n",
    "\n",
    "flat_scores = scores.flatten()\n",
    "flat_scores = flat_scores[flat_scores != 0]\n",
    "display(flat_scores)"
   ]
  },
  {
   "cell_type": "code",
   "execution_count": 5,
   "metadata": {},
   "outputs": [
    {
     "data": {
      "text/plain": [
       "array([10, 10, 10, 10, 10, 10, 10, 10, 10,  9,  9,  9,  9,  9,  8,  8,  8,\n",
       "        7,  7,  6,  6,  6,  5,  5,  5,  5,  5,  5,  5,  5,  5,  4,  4,  4,\n",
       "        4,  4,  4,  4,  3,  3,  3,  3,  3,  3,  2,  2,  2,  2,  1,  1,  1,\n",
       "        1,  1,  1,  1,  1])"
      ]
     },
     "metadata": {},
     "output_type": "display_data"
    }
   ],
   "source": [
    "# Sắp xếp giảm theo thuật toán quicksort, in ra màn hình.\n",
    "sorted_scores = np.sort(flat_scores)[::-1]\n",
    "display(sorted_scores)"
   ]
  },
  {
   "cell_type": "code",
   "execution_count": 6,
   "metadata": {},
   "outputs": [],
   "source": [
    "# Hàm search_sorted chỉ đúng với các số tăng dần, nên cần sắp xếp lại mảng điểm tăng dần.\n",
    "sorted_scores = sorted_scores[::-1]"
   ]
  },
  {
   "cell_type": "code",
   "execution_count": 8,
   "metadata": {},
   "outputs": [
    {
     "name": "stdout",
     "output_type": "stream",
     "text": [
      "18\n"
     ]
    },
    {
     "data": {
      "text/plain": [
       "array([10, 10, 10, 10, 10, 10, 10, 10, 10,  9,  9,  9,  9,  9,  8,  8,  8,\n",
       "        7,  7,  6,  6,  6,  5,  5,  5,  5,  5,  5,  5,  5,  5,  5,  4,  4,\n",
       "        4,  4,  4,  4,  4,  3,  3,  3,  3,  3,  3,  3,  2,  2,  2,  2,  1,\n",
       "        1,  1,  1,  1,  1,  1,  1])"
      ]
     },
     "metadata": {},
     "output_type": "display_data"
    }
   ],
   "source": [
    "# Nhập vào một số thực k từ bàn phím và cho biết vị trí chèn k vào mảng mà không phá vỡ tính sắp xếp của mảng và thêm vào vị trí đó.\n",
    "k = int(input(\"Nhap vao so thuc k: \"))  \n",
    "insert_index = np.searchsorted(sorted_scores, k, side='right')\n",
    "print(insert_index)\n",
    "sorted_scores = np.insert(sorted_scores, insert_index, k)\n",
    "display(sorted_scores[::-1])"
   ]
  }
 ],
 "metadata": {
  "kernelspec": {
   "display_name": "Python 3",
   "language": "python",
   "name": "python3"
  },
  "language_info": {
   "codemirror_mode": {
    "name": "ipython",
    "version": 3
   },
   "file_extension": ".py",
   "mimetype": "text/x-python",
   "name": "python",
   "nbconvert_exporter": "python",
   "pygments_lexer": "ipython3",
   "version": "3.11.6"
  }
 },
 "nbformat": 4,
 "nbformat_minor": 2
}
