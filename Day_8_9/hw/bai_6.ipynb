{
 "cells": [
  {
   "cell_type": "markdown",
   "metadata": {},
   "source": [
    "# HIT Open Day 2023"
   ]
  },
  {
   "cell_type": "code",
   "execution_count": 1,
   "metadata": {},
   "outputs": [],
   "source": [
    "import pandas as pd \n",
    "import numpy as np"
   ]
  },
  {
   "cell_type": "code",
   "execution_count": 2,
   "metadata": {},
   "outputs": [
    {
     "data": {
      "text/html": [
       "<div>\n",
       "<style scoped>\n",
       "    .dataframe tbody tr th:only-of-type {\n",
       "        vertical-align: middle;\n",
       "    }\n",
       "\n",
       "    .dataframe tbody tr th {\n",
       "        vertical-align: top;\n",
       "    }\n",
       "\n",
       "    .dataframe thead th {\n",
       "        text-align: right;\n",
       "    }\n",
       "</style>\n",
       "<table border=\"1\" class=\"dataframe\">\n",
       "  <thead>\n",
       "    <tr style=\"text-align: right;\">\n",
       "      <th></th>\n",
       "      <th>Tuoi</th>\n",
       "      <th>Nganh</th>\n",
       "      <th>Typing</th>\n",
       "      <th>LapTrinhThiDau</th>\n",
       "      <th>Web</th>\n",
       "      <th>AI-Tank</th>\n",
       "      <th>RungChuongVang</th>\n",
       "    </tr>\n",
       "  </thead>\n",
       "  <tbody>\n",
       "    <tr>\n",
       "      <th>0</th>\n",
       "      <td>19</td>\n",
       "      <td>KHMT</td>\n",
       "      <td>9.0</td>\n",
       "      <td>2.0</td>\n",
       "      <td>4.0</td>\n",
       "      <td>5.0</td>\n",
       "      <td>9.0</td>\n",
       "    </tr>\n",
       "    <tr>\n",
       "      <th>1</th>\n",
       "      <td>19</td>\n",
       "      <td>KTPM</td>\n",
       "      <td>2.0</td>\n",
       "      <td>4.0</td>\n",
       "      <td>7.0</td>\n",
       "      <td>10.0</td>\n",
       "      <td>6.0</td>\n",
       "    </tr>\n",
       "    <tr>\n",
       "      <th>2</th>\n",
       "      <td>21</td>\n",
       "      <td>KTPM</td>\n",
       "      <td>3.0</td>\n",
       "      <td>1.0</td>\n",
       "      <td>8.0</td>\n",
       "      <td>7.0</td>\n",
       "      <td>8.0</td>\n",
       "    </tr>\n",
       "    <tr>\n",
       "      <th>3</th>\n",
       "      <td>20</td>\n",
       "      <td>CNTT</td>\n",
       "      <td>5.0</td>\n",
       "      <td>7.0</td>\n",
       "      <td>7.0</td>\n",
       "      <td>10.0</td>\n",
       "      <td>6.0</td>\n",
       "    </tr>\n",
       "    <tr>\n",
       "      <th>4</th>\n",
       "      <td>19</td>\n",
       "      <td>CNTT</td>\n",
       "      <td>NaN</td>\n",
       "      <td>3.0</td>\n",
       "      <td>7.0</td>\n",
       "      <td>5.0</td>\n",
       "      <td>10.0</td>\n",
       "    </tr>\n",
       "  </tbody>\n",
       "</table>\n",
       "</div>"
      ],
      "text/plain": [
       "  Tuoi Nganh Typing LapTrinhThiDau  Web AI-Tank RungChuongVang\n",
       "0   19  KHMT    9.0            2.0  4.0     5.0            9.0\n",
       "1   19  KTPM    2.0            4.0  7.0    10.0            6.0\n",
       "2   21  KTPM    3.0            1.0  8.0     7.0            8.0\n",
       "3   20  CNTT    5.0            7.0  7.0    10.0            6.0\n",
       "4   19  CNTT    NaN            3.0  7.0     5.0           10.0"
      ]
     },
     "execution_count": 2,
     "metadata": {},
     "output_type": "execute_result"
    }
   ],
   "source": [
    "N = 50\n",
    "\n",
    "# Tạo mảng numpy với kích thước 50x7\n",
    "data = np.zeros((N, 7), dtype='object')\n",
    "\n",
    "# Tuổi: random trong khoảng [18:22]\n",
    "data[:, 0] = np.random.randint(18, 23, size=N)\n",
    "\n",
    "nganh_values = [\"CNTT\", \"KTPM\", \"KHMT\", \"HTTT\", \"CNDPT\"]\n",
    "data[:, 1] = np.random.choice(nganh_values, size=N)\n",
    "\n",
    "# Typing\n",
    "data[:, 2] = np.random.choice([np.nan, *np.arange(11)], size=N)\n",
    "\n",
    "# Lập trình thi đấu\n",
    "data[:, 3] = np.random.choice([np.nan, *np.arange(11)], size=N)\n",
    "\n",
    "# Web\n",
    "data[:, 4] = np.random.choice([np.nan, *np.arange(11)], size=N)\n",
    "\n",
    "# AI-Tank\n",
    "data[:, 5] = np.random.choice([np.nan, *np.arange(11)], size=N)\n",
    "\n",
    "# Rung chuông vàng\n",
    "data[:, 6] = np.random.choice([np.nan, *np.arange(11)], size=N)\n",
    "\n",
    "# Tạo DataFrame từ mảng numpy\n",
    "columns = [\"Tuoi\", \"Nganh\", \"Typing\", \"LapTrinhThiDau\", \"Web\", \"AI-Tank\", \"RungChuongVang\"]\n",
    "df = pd.DataFrame(data, columns=columns)\n",
    "\n",
    "# In ra kết quả\n",
    "df.head()"
   ]
  },
  {
   "cell_type": "code",
   "execution_count": 3,
   "metadata": {},
   "outputs": [],
   "source": [
    "# Thêm cột mới là ID”, “Tổng cuộc thi” (những giá trị NaN là member không tham gia thi cuộc thi đó), “Tổng điểm”.\n",
    "df['TongCuocThi'] = df.iloc[:, 2:].notna().sum(axis=1)\n",
    "df['TongDiem'] = df.iloc[:, 2:].sum(axis=1, skipna=True)\n",
    "df['ID'] = np.arange(len(df)) + 2022600000\n"
   ]
  },
  {
   "cell_type": "code",
   "execution_count": 4,
   "metadata": {},
   "outputs": [
    {
     "data": {
      "text/html": [
       "<div>\n",
       "<style scoped>\n",
       "    .dataframe tbody tr th:only-of-type {\n",
       "        vertical-align: middle;\n",
       "    }\n",
       "\n",
       "    .dataframe tbody tr th {\n",
       "        vertical-align: top;\n",
       "    }\n",
       "\n",
       "    .dataframe thead th {\n",
       "        text-align: right;\n",
       "    }\n",
       "</style>\n",
       "<table border=\"1\" class=\"dataframe\">\n",
       "  <thead>\n",
       "    <tr style=\"text-align: right;\">\n",
       "      <th></th>\n",
       "      <th>Tuoi</th>\n",
       "      <th>Nganh</th>\n",
       "      <th>Typing</th>\n",
       "      <th>LapTrinhThiDau</th>\n",
       "      <th>Web</th>\n",
       "      <th>AI-Tank</th>\n",
       "      <th>RungChuongVang</th>\n",
       "      <th>TongCuocThi</th>\n",
       "      <th>TongDiem</th>\n",
       "      <th>ID</th>\n",
       "    </tr>\n",
       "  </thead>\n",
       "  <tbody>\n",
       "    <tr>\n",
       "      <th>0</th>\n",
       "      <td>19</td>\n",
       "      <td>KHMT</td>\n",
       "      <td>9.0</td>\n",
       "      <td>2.0</td>\n",
       "      <td>4.0</td>\n",
       "      <td>5.0</td>\n",
       "      <td>9.0</td>\n",
       "      <td>5</td>\n",
       "      <td>34.0</td>\n",
       "      <td>2022600000</td>\n",
       "    </tr>\n",
       "    <tr>\n",
       "      <th>1</th>\n",
       "      <td>19</td>\n",
       "      <td>KTPM</td>\n",
       "      <td>2.0</td>\n",
       "      <td>4.0</td>\n",
       "      <td>7.0</td>\n",
       "      <td>10.0</td>\n",
       "      <td>6.0</td>\n",
       "      <td>5</td>\n",
       "      <td>34.0</td>\n",
       "      <td>2022600001</td>\n",
       "    </tr>\n",
       "    <tr>\n",
       "      <th>2</th>\n",
       "      <td>21</td>\n",
       "      <td>KTPM</td>\n",
       "      <td>3.0</td>\n",
       "      <td>1.0</td>\n",
       "      <td>8.0</td>\n",
       "      <td>7.0</td>\n",
       "      <td>8.0</td>\n",
       "      <td>5</td>\n",
       "      <td>32.0</td>\n",
       "      <td>2022600002</td>\n",
       "    </tr>\n",
       "    <tr>\n",
       "      <th>3</th>\n",
       "      <td>20</td>\n",
       "      <td>CNTT</td>\n",
       "      <td>5.0</td>\n",
       "      <td>7.0</td>\n",
       "      <td>7.0</td>\n",
       "      <td>10.0</td>\n",
       "      <td>6.0</td>\n",
       "      <td>5</td>\n",
       "      <td>40.0</td>\n",
       "      <td>2022600003</td>\n",
       "    </tr>\n",
       "    <tr>\n",
       "      <th>4</th>\n",
       "      <td>19</td>\n",
       "      <td>CNTT</td>\n",
       "      <td>NaN</td>\n",
       "      <td>3.0</td>\n",
       "      <td>7.0</td>\n",
       "      <td>5.0</td>\n",
       "      <td>10.0</td>\n",
       "      <td>4</td>\n",
       "      <td>29.0</td>\n",
       "      <td>2022600004</td>\n",
       "    </tr>\n",
       "  </tbody>\n",
       "</table>\n",
       "</div>"
      ],
      "text/plain": [
       "  Tuoi Nganh Typing LapTrinhThiDau  Web AI-Tank RungChuongVang  TongCuocThi  \\\n",
       "0   19  KHMT    9.0            2.0  4.0     5.0            9.0            5   \n",
       "1   19  KTPM    2.0            4.0  7.0    10.0            6.0            5   \n",
       "2   21  KTPM    3.0            1.0  8.0     7.0            8.0            5   \n",
       "3   20  CNTT    5.0            7.0  7.0    10.0            6.0            5   \n",
       "4   19  CNTT    NaN            3.0  7.0     5.0           10.0            4   \n",
       "\n",
       "  TongDiem          ID  \n",
       "0     34.0  2022600000  \n",
       "1     34.0  2022600001  \n",
       "2     32.0  2022600002  \n",
       "3     40.0  2022600003  \n",
       "4     29.0  2022600004  "
      ]
     },
     "execution_count": 4,
     "metadata": {},
     "output_type": "execute_result"
    }
   ],
   "source": [
    "df.head()"
   ]
  },
  {
   "cell_type": "code",
   "execution_count": 5,
   "metadata": {},
   "outputs": [],
   "source": [
    "df.set_index('ID', inplace=True)  "
   ]
  },
  {
   "cell_type": "code",
   "execution_count": 6,
   "metadata": {},
   "outputs": [
    {
     "data": {
      "text/html": [
       "<div>\n",
       "<style scoped>\n",
       "    .dataframe tbody tr th:only-of-type {\n",
       "        vertical-align: middle;\n",
       "    }\n",
       "\n",
       "    .dataframe tbody tr th {\n",
       "        vertical-align: top;\n",
       "    }\n",
       "\n",
       "    .dataframe thead th {\n",
       "        text-align: right;\n",
       "    }\n",
       "</style>\n",
       "<table border=\"1\" class=\"dataframe\">\n",
       "  <thead>\n",
       "    <tr style=\"text-align: right;\">\n",
       "      <th></th>\n",
       "      <th>Tuoi</th>\n",
       "      <th>Nganh</th>\n",
       "    </tr>\n",
       "    <tr>\n",
       "      <th>ID</th>\n",
       "      <th></th>\n",
       "      <th></th>\n",
       "    </tr>\n",
       "  </thead>\n",
       "  <tbody>\n",
       "    <tr>\n",
       "      <th>2022600003</th>\n",
       "      <td>20</td>\n",
       "      <td>CNTT</td>\n",
       "    </tr>\n",
       "    <tr>\n",
       "      <th>2022600040</th>\n",
       "      <td>20</td>\n",
       "      <td>KTPM</td>\n",
       "    </tr>\n",
       "    <tr>\n",
       "      <th>2022600007</th>\n",
       "      <td>20</td>\n",
       "      <td>HTTT</td>\n",
       "    </tr>\n",
       "  </tbody>\n",
       "</table>\n",
       "</div>"
      ],
      "text/plain": [
       "           Tuoi Nganh\n",
       "ID                   \n",
       "2022600003   20  CNTT\n",
       "2022600040   20  KTPM\n",
       "2022600007   20  HTTT"
      ]
     },
     "execution_count": 6,
     "metadata": {},
     "output_type": "execute_result"
    }
   ],
   "source": [
    "# * In ra thông tin “ID”, “Tuổi”, “Ngành” của 3 người có tổng điểm cao nhất.\n",
    "df.sort_values(by='TongDiem', ascending=False).head(3)[['Tuoi', 'Nganh']]"
   ]
  },
  {
   "cell_type": "code",
   "execution_count": 7,
   "metadata": {},
   "outputs": [
    {
     "data": {
      "text/plain": [
       "LapTrinhThiDau    13\n",
       "dtype: int64"
      ]
     },
     "execution_count": 7,
     "metadata": {},
     "output_type": "execute_result"
    }
   ],
   "source": [
    "# * Xác định các bạn ngành “CNTT” có xu hướng tham gia cuộc thi nào.\n",
    "df[df['Nganh'] == 'CNTT'].iloc[:, 2:-2].notna().sum(axis=0).sort_values(ascending=False).head(1)"
   ]
  },
  {
   "cell_type": "code",
   "execution_count": 8,
   "metadata": {},
   "outputs": [
    {
     "data": {
      "text/plain": [
       "AI-Tank    46\n",
       "dtype: int64"
      ]
     },
     "execution_count": 8,
     "metadata": {},
     "output_type": "execute_result"
    }
   ],
   "source": [
    "# * Xác định cuộc thi nào có số lượng tham gia lớn nhất, \n",
    "df.iloc[:, 2:-2].notna().sum(axis=0).sort_values(ascending=False).head(1)\n",
    "\n",
    "# cuộc thi nào có số lượng tham gia ít nhất.\n",
    "df.iloc[:, 2:-2].notna().sum(axis=0).sort_values(ascending=False).tail(1)"
   ]
  }
 ],
 "metadata": {
  "kernelspec": {
   "display_name": ".work_space",
   "language": "python",
   "name": "python3"
  },
  "language_info": {
   "codemirror_mode": {
    "name": "ipython",
    "version": 3
   },
   "file_extension": ".py",
   "mimetype": "text/x-python",
   "name": "python",
   "nbconvert_exporter": "python",
   "pygments_lexer": "ipython3",
   "version": "3.11.6"
  }
 },
 "nbformat": 4,
 "nbformat_minor": 2
}
