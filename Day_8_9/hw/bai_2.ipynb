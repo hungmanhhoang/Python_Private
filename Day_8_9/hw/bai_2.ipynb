{
 "cells": [
  {
   "cell_type": "markdown",
   "metadata": {},
   "source": [
    "# Vector - Matrix - Tensor"
   ]
  },
  {
   "cell_type": "code",
   "execution_count": 15,
   "metadata": {},
   "outputs": [],
   "source": [
    "import numpy as np"
   ]
  },
  {
   "cell_type": "code",
   "execution_count": 16,
   "metadata": {},
   "outputs": [],
   "source": [
    "# Nhập từ bàn phím 2 vector numpy a, b có cùng kích thước n.\n",
    "n = 2\n",
    "\n",
    "# A = np.array(list(map(float, input().split())))\n",
    "# B = np.array(list(map(float, input().split())))\n",
    "\n",
    "A = np.array([1, 2])\n",
    "B = np.array([3, 4])"
   ]
  },
  {
   "cell_type": "code",
   "execution_count": 17,
   "metadata": {},
   "outputs": [
    {
     "name": "stdout",
     "output_type": "stream",
     "text": [
      "Maximum: 2\n",
      "Minimum: 1\n",
      "Mean: 1.5\n",
      "Standard Deviation: 0.5\n",
      "Median: 1.5\n"
     ]
    }
   ],
   "source": [
    "# In ra max, min, giá trị trung bình, độ lệch chuẩn của vector, giá trị trung vị của A\n",
    "maximum = np.max(A)\n",
    "minimum = np.min(A)\n",
    "mean = np.mean(A)\n",
    "std_dev = np.std(A)\n",
    "median = np.median(A)\n",
    "\n",
    "print(\"Maximum:\", maximum)\n",
    "print(\"Minimum:\", minimum)\n",
    "print(\"Mean:\", mean)\n",
    "print(\"Standard Deviation:\", std_dev)\n",
    "print(\"Median:\", median)\n"
   ]
  },
  {
   "cell_type": "code",
   "execution_count": 18,
   "metadata": {},
   "outputs": [
    {
     "data": {
      "text/plain": [
       "array([[1, 2],\n",
       "       [3, 4]])"
      ]
     },
     "execution_count": 18,
     "metadata": {},
     "output_type": "execute_result"
    }
   ],
   "source": [
    "# Tạo 1 ma trận numpy c (2-D) có kích thước nx2 từ a, b, in ra màn hình.\n",
    "C = np.array((A, B))\n",
    "C"
   ]
  },
  {
   "cell_type": "code",
   "execution_count": 20,
   "metadata": {},
   "outputs": [
    {
     "data": {
      "text/plain": [
       "array([[3.2087656 , 3.7368796 ],\n",
       "       [3.57293386, 3.69759733]])"
      ]
     },
     "execution_count": 20,
     "metadata": {},
     "output_type": "execute_result"
    }
   ],
   "source": [
    "# Khởi tạo 1 ma trận (2-D) numpy d với kích thước nxn theo phân phối Gauss (với mean, std của b), in kết quả ra màn hình.\n",
    "mean = np.mean(B)\n",
    "std_dev = np.std(B)\n",
    "\n",
    "D = np.random.normal(mean, std_dev, size=(n, n))\n",
    "D"
   ]
  },
  {
   "cell_type": "code",
   "execution_count": 23,
   "metadata": {},
   "outputs": [
    {
     "name": "stdout",
     "output_type": "stream",
     "text": [
      "Sum of two matrices:\n",
      " [[0.72198371 6.08613465]\n",
      " [6.13982033 1.5395743 ]]\n",
      "Difference of two matrices:\n",
      " [[5.69554749 1.05973308]\n",
      " [1.33393887 5.85562036]]\n",
      "Product of two matrices:\n",
      " [[ 0.60604812  0.35379867]\n",
      " [-0.40769728  1.41202855]]\n"
     ]
    }
   ],
   "source": [
    "#Tính tổng, hiệu, tích 2 ma trận, tích ma trận chuyển vị  của d với ma trận nghịch đảo của d.\n",
    "\n",
    "D_T = np.transpose(D) # transpose of D\n",
    "D_I = np.linalg.inv(D) # inverse of D\n",
    "\n",
    "# Calculate the sum of two matrices\n",
    "sum_matrix = D_T + D_I\n",
    "\n",
    "# Calculate the difference of two matrices\n",
    "diff_matrix = D_T - D_I\n",
    "\n",
    "# Calculate the product of two matrices\n",
    "product_matrix = np.dot(D_T, D_I)\n",
    "\n",
    "print(\"Sum of two matrices:\\n\", sum_matrix)\n",
    "print(\"Difference of two matrices:\\n\", diff_matrix)\n",
    "print(\"Product of two matrices:\\n\", product_matrix)\n"
   ]
  },
  {
   "cell_type": "code",
   "execution_count": 36,
   "metadata": {},
   "outputs": [
    {
     "name": "stdout",
     "output_type": "stream",
     "text": [
      "Tensor e (3-D):\n",
      "(2, 2, 1)\n",
      "[[[1]\n",
      "  [2]]\n",
      "\n",
      " [[3]\n",
      "  [4]]]\n"
     ]
    }
   ],
   "source": [
    "# Chuyển ma trận c về tensor numpy e (3-D) (nếu không đủ dữ liệu để chuyển về 3-D thì thêm dữ liệu), in ra màn hình.\n",
    "# Assuming c is the matrix you want to convert to a 3-D tensor\n",
    "c = np.array([[1, 2], [3, 4]])\n",
    "\n",
    "e = np.expand_dims(c, axis=2)\n",
    "print(\"Tensor e (3-D):\")\n",
    "print(e.shape)\n",
    "print(e)"
   ]
  },
  {
   "cell_type": "markdown",
   "metadata": {},
   "source": [
    "https://nttuan8.com/bai-1-tensor/"
   ]
  }
 ],
 "metadata": {
  "kernelspec": {
   "display_name": "Python 3",
   "language": "python",
   "name": "python3"
  },
  "language_info": {
   "codemirror_mode": {
    "name": "ipython",
    "version": 3
   },
   "file_extension": ".py",
   "mimetype": "text/x-python",
   "name": "python",
   "nbconvert_exporter": "python",
   "pygments_lexer": "ipython3",
   "version": "3.11.6"
  }
 },
 "nbformat": 4,
 "nbformat_minor": 2
}
