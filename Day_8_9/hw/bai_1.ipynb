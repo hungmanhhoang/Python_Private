{
 "cells": [
  {
   "cell_type": "markdown",
   "metadata": {},
   "source": [
    "# Numpy Array Creating "
   ]
  },
  {
   "cell_type": "code",
   "execution_count": 57,
   "metadata": {},
   "outputs": [],
   "source": [
    "import numpy as np"
   ]
  },
  {
   "cell_type": "markdown",
   "metadata": {},
   "source": [
    "### Khởi tạo một mảng numpy nguyên a (1-D) với n phần tử ngẫu nhiên trong khoảng từ [1, 14]."
   ]
  },
  {
   "cell_type": "code",
   "execution_count": 58,
   "metadata": {},
   "outputs": [],
   "source": [
    "n = 10 # number of elements\n",
    "arr = np.random.randint(1, 15, size= n)"
   ]
  },
  {
   "cell_type": "code",
   "execution_count": 59,
   "metadata": {},
   "outputs": [
    {
     "name": "stdout",
     "output_type": "stream",
     "text": [
      "Original array:\n"
     ]
    },
    {
     "data": {
      "text/plain": [
       "array([11,  2,  3,  6, 11, 11,  2, 14,  7,  1])"
      ]
     },
     "metadata": {},
     "output_type": "display_data"
    },
    {
     "name": "stdout",
     "output_type": "stream",
     "text": [
      "ndim:  1\n",
      "shape:  (10,)\n",
      "len:  10\n",
      "dtype:  int32\n",
      "itemsize:  4\n"
     ]
    }
   ],
   "source": [
    "print(\"Original array:\")\n",
    "display(arr)\n",
    "print(\"ndim: \", arr.ndim)\n",
    "print(\"shape: \", arr.shape)\n",
    "print(\"len: \", len(arr))\n",
    "print(\"dtype: \", arr.dtype)\n",
    "print(\"itemsize: \", arr.itemsize)"
   ]
  },
  {
   "cell_type": "markdown",
   "metadata": {},
   "source": [
    "### Khởi tạo 1 mảng numpy b với 100 số chẵn đầu tiên."
   ]
  },
  {
   "cell_type": "code",
   "execution_count": 60,
   "metadata": {},
   "outputs": [],
   "source": [
    "arr = np.arange(0, 200, 2)"
   ]
  },
  {
   "cell_type": "code",
   "execution_count": 61,
   "metadata": {},
   "outputs": [
    {
     "name": "stdout",
     "output_type": "stream",
     "text": [
      "Original array:\n"
     ]
    },
    {
     "data": {
      "text/plain": [
       "array([  0,   2,   4,   6,   8,  10,  12,  14,  16,  18,  20,  22,  24,\n",
       "        26,  28,  30,  32,  34,  36,  38,  40,  42,  44,  46,  48,  50,\n",
       "        52,  54,  56,  58,  60,  62,  64,  66,  68,  70,  72,  74,  76,\n",
       "        78,  80,  82,  84,  86,  88,  90,  92,  94,  96,  98, 100, 102,\n",
       "       104, 106, 108, 110, 112, 114, 116, 118, 120, 122, 124, 126, 128,\n",
       "       130, 132, 134, 136, 138, 140, 142, 144, 146, 148, 150, 152, 154,\n",
       "       156, 158, 160, 162, 164, 166, 168, 170, 172, 174, 176, 178, 180,\n",
       "       182, 184, 186, 188, 190, 192, 194, 196, 198])"
      ]
     },
     "metadata": {},
     "output_type": "display_data"
    },
    {
     "name": "stdout",
     "output_type": "stream",
     "text": [
      "ndim:  1\n",
      "shape:  (100,)\n",
      "len:  100\n",
      "dtype:  int32\n",
      "itemsize:  4\n"
     ]
    }
   ],
   "source": [
    "print(\"Original array:\")\n",
    "display(arr)\n",
    "print(\"ndim: \", arr.ndim)\n",
    "print(\"shape: \", arr.shape)\n",
    "print(\"len: \", len(arr))\n",
    "print(\"dtype: \", arr.dtype)\n",
    "print(\"itemsize: \", arr.itemsize)"
   ]
  },
  {
   "cell_type": "markdown",
   "metadata": {},
   "source": [
    "### Khởi tạo 1 ma trận numpy c có kích thước nxn với 100 phần tử 0, in ra màn hình."
   ]
  },
  {
   "cell_type": "code",
   "execution_count": 62,
   "metadata": {},
   "outputs": [],
   "source": [
    "n = int(100 ** (1/2))\n",
    "\n",
    "arr = np.zeros((n,n))"
   ]
  },
  {
   "cell_type": "code",
   "execution_count": 63,
   "metadata": {},
   "outputs": [
    {
     "name": "stdout",
     "output_type": "stream",
     "text": [
      "Original array:\n"
     ]
    },
    {
     "data": {
      "text/plain": [
       "array([[0., 0., 0., 0., 0., 0., 0., 0., 0., 0.],\n",
       "       [0., 0., 0., 0., 0., 0., 0., 0., 0., 0.],\n",
       "       [0., 0., 0., 0., 0., 0., 0., 0., 0., 0.],\n",
       "       [0., 0., 0., 0., 0., 0., 0., 0., 0., 0.],\n",
       "       [0., 0., 0., 0., 0., 0., 0., 0., 0., 0.],\n",
       "       [0., 0., 0., 0., 0., 0., 0., 0., 0., 0.],\n",
       "       [0., 0., 0., 0., 0., 0., 0., 0., 0., 0.],\n",
       "       [0., 0., 0., 0., 0., 0., 0., 0., 0., 0.],\n",
       "       [0., 0., 0., 0., 0., 0., 0., 0., 0., 0.],\n",
       "       [0., 0., 0., 0., 0., 0., 0., 0., 0., 0.]])"
      ]
     },
     "metadata": {},
     "output_type": "display_data"
    },
    {
     "name": "stdout",
     "output_type": "stream",
     "text": [
      "ndim:  2\n",
      "shape:  (10, 10)\n",
      "len:  10\n",
      "dtype:  float64\n",
      "itemsize:  8\n"
     ]
    }
   ],
   "source": [
    "print(\"Original array:\")\n",
    "display(arr)\n",
    "print(\"ndim: \", arr.ndim)\n",
    "print(\"shape: \", arr.shape)\n",
    "print(\"len: \", len(arr))\n",
    "print(\"dtype: \", arr.dtype)\n",
    "print(\"itemsize: \", arr.itemsize)"
   ]
  },
  {
   "cell_type": "markdown",
   "metadata": {},
   "source": [
    "### Khởi tạo ma trận đơn vị d có kích thước nxn.\n"
   ]
  },
  {
   "cell_type": "code",
   "execution_count": 64,
   "metadata": {},
   "outputs": [],
   "source": [
    "n = 5\n",
    "\n",
    "arr = np.eye(n)"
   ]
  },
  {
   "cell_type": "code",
   "execution_count": 65,
   "metadata": {},
   "outputs": [
    {
     "name": "stdout",
     "output_type": "stream",
     "text": [
      "Original array:\n"
     ]
    },
    {
     "data": {
      "text/plain": [
       "array([[1., 0., 0., 0., 0.],\n",
       "       [0., 1., 0., 0., 0.],\n",
       "       [0., 0., 1., 0., 0.],\n",
       "       [0., 0., 0., 1., 0.],\n",
       "       [0., 0., 0., 0., 1.]])"
      ]
     },
     "metadata": {},
     "output_type": "display_data"
    },
    {
     "name": "stdout",
     "output_type": "stream",
     "text": [
      "ndim:  2\n",
      "shape:  (5, 5)\n",
      "len:  5\n",
      "dtype:  float64\n",
      "itemsize:  8\n"
     ]
    }
   ],
   "source": [
    "print(\"Original array:\")\n",
    "display(arr)\n",
    "print(\"ndim: \", arr.ndim)\n",
    "print(\"shape: \", arr.shape)\n",
    "print(\"len: \", len(arr))\n",
    "print(\"dtype: \", arr.dtype)\n",
    "print(\"itemsize: \", arr.itemsize)"
   ]
  },
  {
   "cell_type": "markdown",
   "metadata": {},
   "source": [
    "### Khởi tạo ma trận đường chéo e với các giá trị trên đường chéo là mảng a."
   ]
  },
  {
   "cell_type": "code",
   "execution_count": 66,
   "metadata": {},
   "outputs": [],
   "source": [
    "arr = np.arange(0, 10, 2)\n",
    "e = np.diag(arr)"
   ]
  },
  {
   "cell_type": "code",
   "execution_count": 67,
   "metadata": {},
   "outputs": [
    {
     "name": "stdout",
     "output_type": "stream",
     "text": [
      "Array arr:\n"
     ]
    },
    {
     "data": {
      "text/plain": [
       "array([0, 2, 4, 6, 8])"
      ]
     },
     "metadata": {},
     "output_type": "display_data"
    },
    {
     "name": "stdout",
     "output_type": "stream",
     "text": [
      "Array e:\n"
     ]
    },
    {
     "data": {
      "text/plain": [
       "array([[0, 0, 0, 0, 0],\n",
       "       [0, 2, 0, 0, 0],\n",
       "       [0, 0, 4, 0, 0],\n",
       "       [0, 0, 0, 6, 0],\n",
       "       [0, 0, 0, 0, 8]])"
      ]
     },
     "metadata": {},
     "output_type": "display_data"
    },
    {
     "name": "stdout",
     "output_type": "stream",
     "text": [
      "ndim:  2\n",
      "shape:  (5, 5)\n",
      "len:  5\n",
      "dtype:  int32\n",
      "itemsize:  4\n"
     ]
    }
   ],
   "source": [
    "print(\"Array arr:\")\n",
    "display(arr)\n",
    "print(\"Array e:\")\n",
    "display(e)\n",
    "print(\"ndim: \", e.ndim)\n",
    "print(\"shape: \", e.shape)\n",
    "print(\"len: \", len(e))\n",
    "print(\"dtype: \", e.dtype)\n",
    "print(\"itemsize: \", e.itemsize)"
   ]
  }
 ],
 "metadata": {
  "kernelspec": {
   "display_name": "Python 3",
   "language": "python",
   "name": "python3"
  },
  "language_info": {
   "codemirror_mode": {
    "name": "ipython",
    "version": 3
   },
   "file_extension": ".py",
   "mimetype": "text/x-python",
   "name": "python",
   "nbconvert_exporter": "python",
   "pygments_lexer": "ipython3",
   "version": "3.11.6"
  }
 },
 "nbformat": 4,
 "nbformat_minor": 2
}
