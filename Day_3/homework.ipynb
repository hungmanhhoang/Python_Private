{
 "cells": [
  {
   "cell_type": "markdown",
   "metadata": {},
   "source": [
    "### Bài 1: Nhập vào tọa độ 3 điểm A,B,C. \n",
    "**Yêu cầu:**\n",
    "- Kiểm tra xem ba điểm này có phải là 3 điểm của một tam giác hay không, \n",
    "- nếu có thì hãy in ra “TAM GIÁC”, \n",
    "- ngược lại in ra “KHÔNG PHẢI TAM GIÁC” và kết thúc chương trình\n"
   ]
  },
  {
   "cell_type": "code",
   "execution_count": 4,
   "metadata": {},
   "outputs": [
    {
     "data": {
      "text/plain": [
       "'TAM GIÁC'"
      ]
     },
     "execution_count": 4,
     "metadata": {},
     "output_type": "execute_result"
    }
   ],
   "source": [
    "def nhap_diem():\n",
    "    x = float(input())\n",
    "    y = float(input())\n",
    "    return x, y\n",
    "\n",
    "def kiem_tra_tam_giac(A, B, C):\n",
    "    # Tính độ dài các cạnh của tam giác\n",
    "    AB = ((A[0] - B[0])**2 + (A[1] - B[1])**2)**0.5\n",
    "    AC = ((A[0] - C[0])**2 + (A[1] - C[1])**2)**0.5\n",
    "    BC = ((B[0] - C[0])**2 + (B[1] - C[1])**2)**0.5\n",
    "\n",
    "    # Kiểm tra tính hợp lệ của tam giác\n",
    "    if AB + AC > BC and AB + BC > AC and AC + BC > AB:\n",
    "        return \"TAM GIÁC\"\n",
    "    else:\n",
    "        return \"KHÔNG PHẢI TAM GIÁC\"\n",
    "\n",
    "A = nhap_diem()\n",
    "B = nhap_diem()\n",
    "C = nhap_diem()\n",
    "\n",
    "kiem_tra_tam_giac(A, B, C)\n"
   ]
  },
  {
   "cell_type": "markdown",
   "metadata": {},
   "source": [
    "### Bài 2:"
   ]
  },
  {
   "cell_type": "code",
   "execution_count": 2,
   "metadata": {},
   "outputs": [
    {
     "name": "stdout",
     "output_type": "stream",
     "text": [
      "5 3\n"
     ]
    }
   ],
   "source": [
    "def nhap(start, end= 100000):\n",
    "    while True:\n",
    "        n = int(input())\n",
    "        if start <= n <= end:\n",
    "            return n\n",
    "        \n",
    "def solve(n ,m):\n",
    "    res = []\n",
    "    for i in range(n):\n",
    "        number = input()\n",
    "        res.append(f'{number[:m]}{number[m::-1]}')\n",
    "    return res\n",
    "    \n",
    "n = nhap(start=2, end=100)\n",
    "m = nhap(start=3)\n",
    "solve(n, m)"
   ]
  },
  {
   "cell_type": "code",
   "execution_count": null,
   "metadata": {},
   "outputs": [],
   "source": []
  },
  {
   "cell_type": "markdown",
   "metadata": {},
   "source": [
    "### Bài 3:"
   ]
  },
  {
   "cell_type": "code",
   "execution_count": null,
   "metadata": {},
   "outputs": [],
   "source": [
    "def xep_loai(score:int)->str:\n",
    "    if score >= 190:\n",
    "        return 'Xuất sắc'\n",
    "    elif score >= 150:\n",
    "        return 'Giỏi'\n",
    "    elif score >= 100:\n",
    "        return 'Khá'\n",
    "    elif score < 100:\n",
    "        return 'Yếu'\n",
    "    \n",
    "def solve():\n",
    "    # Nhập số học sinh\n",
    "    students = int(nhap())\n",
    "    res = []\n",
    "    for i in range(students):\n",
    "        name = nhap()\n",
    "        score1 = int(nhap())\n",
    "        score2 = int(nhap())\n",
    "        sum_score = score1 + score2\n",
    "        res.append(f'{i + 1} {name} {sum_score} {xep_loai(sum_score)}')\n",
    "    for i in res:\n",
    "        print(i)\n",
    "solve()"
   ]
  },
  {
   "cell_type": "markdown",
   "metadata": {},
   "source": [
    "### Bài 4:"
   ]
  },
  {
   "cell_type": "code",
   "execution_count": 7,
   "metadata": {},
   "outputs": [
    {
     "name": "stdout",
     "output_type": "stream",
     "text": [
      "NO\n"
     ]
    }
   ],
   "source": [
    "number = nhap()\n",
    "length = 0\n",
    "\n",
    "for i in number:\n",
    "    if i == '1':\n",
    "        length += 1\n",
    "    else:\n",
    "        print(\"NO\")\n",
    "        \n",
    "if length == len(number):\n",
    "    print('YES')\n"
   ]
  }
 ],
 "metadata": {
  "kernelspec": {
   "display_name": "Python 3",
   "language": "python",
   "name": "python3"
  },
  "language_info": {
   "codemirror_mode": {
    "name": "ipython",
    "version": 3
   },
   "file_extension": ".py",
   "mimetype": "text/x-python",
   "name": "python",
   "nbconvert_exporter": "python",
   "pygments_lexer": "ipython3",
   "version": "3.12.0"
  }
 },
 "nbformat": 4,
 "nbformat_minor": 2
}
